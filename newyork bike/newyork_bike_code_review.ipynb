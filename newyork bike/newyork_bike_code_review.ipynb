{
 "cells": [
  {
   "cell_type": "markdown",
   "metadata": {
    "deletable": true,
    "editable": true
   },
   "source": [
    "-  reference : https://www.kaggle.com/javalex/nyc-bike-data-analysis-subscribers-and-customers"
   ]
  },
  {
   "cell_type": "code",
   "execution_count": 2,
   "metadata": {
    "collapsed": false,
    "deletable": true,
    "editable": true
   },
   "outputs": [],
   "source": [
    "\n",
    "import numpy as np\n",
    "import pandas as pd\n",
    "import geopandas\n",
    "from shapely.geometry import Point, Polygon\n",
    "\n",
    "import os \n",
    "import sys\n",
    "\n",
    "import calendar\n",
    "import glob\n",
    "import math\n",
    "\n",
    "import seaborn as sns\n",
    "import matplotlib.pyplot as plt\n",
    "%matplotlib inline"
   ]
  },
  {
   "cell_type": "code",
   "execution_count": 3,
   "metadata": {
    "collapsed": true,
    "deletable": true,
    "editable": true
   },
   "outputs": [],
   "source": [
    "df = pd.read_csv('NYC-BikeShare-2015-2017-combined.csv')"
   ]
  },
  {
   "cell_type": "code",
   "execution_count": 4,
   "metadata": {
    "collapsed": false,
    "deletable": true,
    "editable": true
   },
   "outputs": [
    {
     "data": {
      "text/html": [
       "<div>\n",
       "<style scoped>\n",
       "    .dataframe tbody tr th:only-of-type {\n",
       "        vertical-align: middle;\n",
       "    }\n",
       "\n",
       "    .dataframe tbody tr th {\n",
       "        vertical-align: top;\n",
       "    }\n",
       "\n",
       "    .dataframe thead th {\n",
       "        text-align: right;\n",
       "    }\n",
       "</style>\n",
       "<table border=\"1\" class=\"dataframe\">\n",
       "  <thead>\n",
       "    <tr style=\"text-align: right;\">\n",
       "      <th></th>\n",
       "      <th>Unnamed: 0</th>\n",
       "      <th>Trip Duration</th>\n",
       "      <th>Start Time</th>\n",
       "      <th>Stop Time</th>\n",
       "      <th>Start Station ID</th>\n",
       "      <th>Start Station Name</th>\n",
       "      <th>Start Station Latitude</th>\n",
       "      <th>Start Station Longitude</th>\n",
       "      <th>End Station ID</th>\n",
       "      <th>End Station Name</th>\n",
       "      <th>End Station Latitude</th>\n",
       "      <th>End Station Longitude</th>\n",
       "      <th>Bike ID</th>\n",
       "      <th>User Type</th>\n",
       "      <th>Birth Year</th>\n",
       "      <th>Gender</th>\n",
       "      <th>Trip_Duration_in_min</th>\n",
       "    </tr>\n",
       "  </thead>\n",
       "  <tbody>\n",
       "    <tr>\n",
       "      <th>0</th>\n",
       "      <td>0</td>\n",
       "      <td>376</td>\n",
       "      <td>2015-10-01 00:16:26</td>\n",
       "      <td>2015-10-01 00:22:42</td>\n",
       "      <td>3212</td>\n",
       "      <td>Christ Hospital</td>\n",
       "      <td>40.734786</td>\n",
       "      <td>-74.050444</td>\n",
       "      <td>3207</td>\n",
       "      <td>Oakland Ave</td>\n",
       "      <td>40.737604</td>\n",
       "      <td>-74.052478</td>\n",
       "      <td>24470</td>\n",
       "      <td>Subscriber</td>\n",
       "      <td>1960.0</td>\n",
       "      <td>1</td>\n",
       "      <td>6</td>\n",
       "    </tr>\n",
       "    <tr>\n",
       "      <th>1</th>\n",
       "      <td>1</td>\n",
       "      <td>739</td>\n",
       "      <td>2015-10-01 00:27:12</td>\n",
       "      <td>2015-10-01 00:39:32</td>\n",
       "      <td>3207</td>\n",
       "      <td>Oakland Ave</td>\n",
       "      <td>40.737604</td>\n",
       "      <td>-74.052478</td>\n",
       "      <td>3212</td>\n",
       "      <td>Christ Hospital</td>\n",
       "      <td>40.734786</td>\n",
       "      <td>-74.050444</td>\n",
       "      <td>24481</td>\n",
       "      <td>Subscriber</td>\n",
       "      <td>1960.0</td>\n",
       "      <td>1</td>\n",
       "      <td>12</td>\n",
       "    </tr>\n",
       "    <tr>\n",
       "      <th>2</th>\n",
       "      <td>2</td>\n",
       "      <td>2714</td>\n",
       "      <td>2015-10-01 00:32:46</td>\n",
       "      <td>2015-10-01 01:18:01</td>\n",
       "      <td>3193</td>\n",
       "      <td>Lincoln Park</td>\n",
       "      <td>40.724605</td>\n",
       "      <td>-74.078406</td>\n",
       "      <td>3193</td>\n",
       "      <td>Lincoln Park</td>\n",
       "      <td>40.724605</td>\n",
       "      <td>-74.078406</td>\n",
       "      <td>24628</td>\n",
       "      <td>Subscriber</td>\n",
       "      <td>1983.0</td>\n",
       "      <td>1</td>\n",
       "      <td>45</td>\n",
       "    </tr>\n",
       "    <tr>\n",
       "      <th>3</th>\n",
       "      <td>3</td>\n",
       "      <td>275</td>\n",
       "      <td>2015-10-01 00:34:31</td>\n",
       "      <td>2015-10-01 00:39:06</td>\n",
       "      <td>3199</td>\n",
       "      <td>Newport Pkwy</td>\n",
       "      <td>40.728745</td>\n",
       "      <td>-74.032108</td>\n",
       "      <td>3187</td>\n",
       "      <td>Warren St</td>\n",
       "      <td>40.721124</td>\n",
       "      <td>-74.038051</td>\n",
       "      <td>24613</td>\n",
       "      <td>Subscriber</td>\n",
       "      <td>1975.0</td>\n",
       "      <td>1</td>\n",
       "      <td>5</td>\n",
       "    </tr>\n",
       "    <tr>\n",
       "      <th>4</th>\n",
       "      <td>4</td>\n",
       "      <td>561</td>\n",
       "      <td>2015-10-01 00:40:12</td>\n",
       "      <td>2015-10-01 00:49:33</td>\n",
       "      <td>3183</td>\n",
       "      <td>Exchange Place</td>\n",
       "      <td>40.716247</td>\n",
       "      <td>-74.033459</td>\n",
       "      <td>3192</td>\n",
       "      <td>Liberty Light Rail</td>\n",
       "      <td>40.711242</td>\n",
       "      <td>-74.055701</td>\n",
       "      <td>24668</td>\n",
       "      <td>Customer</td>\n",
       "      <td>1984.0</td>\n",
       "      <td>0</td>\n",
       "      <td>9</td>\n",
       "    </tr>\n",
       "  </tbody>\n",
       "</table>\n",
       "</div>"
      ],
      "text/plain": [
       "   Unnamed: 0  Trip Duration           Start Time            Stop Time  \\\n",
       "0           0            376  2015-10-01 00:16:26  2015-10-01 00:22:42   \n",
       "1           1            739  2015-10-01 00:27:12  2015-10-01 00:39:32   \n",
       "2           2           2714  2015-10-01 00:32:46  2015-10-01 01:18:01   \n",
       "3           3            275  2015-10-01 00:34:31  2015-10-01 00:39:06   \n",
       "4           4            561  2015-10-01 00:40:12  2015-10-01 00:49:33   \n",
       "\n",
       "   Start Station ID Start Station Name  Start Station Latitude  \\\n",
       "0              3212    Christ Hospital               40.734786   \n",
       "1              3207        Oakland Ave               40.737604   \n",
       "2              3193       Lincoln Park               40.724605   \n",
       "3              3199       Newport Pkwy               40.728745   \n",
       "4              3183     Exchange Place               40.716247   \n",
       "\n",
       "   Start Station Longitude  End Station ID    End Station Name  \\\n",
       "0               -74.050444            3207         Oakland Ave   \n",
       "1               -74.052478            3212     Christ Hospital   \n",
       "2               -74.078406            3193        Lincoln Park   \n",
       "3               -74.032108            3187           Warren St   \n",
       "4               -74.033459            3192  Liberty Light Rail   \n",
       "\n",
       "   End Station Latitude  End Station Longitude  Bike ID   User Type  \\\n",
       "0             40.737604             -74.052478    24470  Subscriber   \n",
       "1             40.734786             -74.050444    24481  Subscriber   \n",
       "2             40.724605             -74.078406    24628  Subscriber   \n",
       "3             40.721124             -74.038051    24613  Subscriber   \n",
       "4             40.711242             -74.055701    24668    Customer   \n",
       "\n",
       "   Birth Year  Gender  Trip_Duration_in_min  \n",
       "0      1960.0       1                     6  \n",
       "1      1960.0       1                    12  \n",
       "2      1983.0       1                    45  \n",
       "3      1975.0       1                     5  \n",
       "4      1984.0       0                     9  "
      ]
     },
     "execution_count": 4,
     "metadata": {},
     "output_type": "execute_result"
    }
   ],
   "source": [
    "df.head()"
   ]
  },
  {
   "cell_type": "markdown",
   "metadata": {
    "deletable": true,
    "editable": true
   },
   "source": [
    "## parameter"
   ]
  },
  {
   "cell_type": "code",
   "execution_count": null,
   "metadata": {
    "collapsed": true,
    "deletable": true,
    "editable": true
   },
   "outputs": [],
   "source": [
    "year = 2017\n",
    "\n",
    "#age\n",
    "age_ranges = ['<20','20-29','30-39','40-49','50-59','60+'] # 각 나이 범위를 구함\n",
    "age_ranges_limits = [0, 20, 30, 40, 50, 60, np.inf]\n",
    "age_min = 0\n",
    "age_max = 100\n",
    "\n",
    "# trip duration\n",
    "duration_min = 2 # 2초 이상 사용한 사람이 최소 사용이라고 말할 수 있다\n",
    "duration_max = 30 * 24 * 60 * 60 # 30일 사용\n",
    "\n",
    "usertypes = ['all', 'subscriber','customer']\n",
    "\n",
    "#plotting\n",
    "font_scale = 1.5\n"
   ]
  },
  {
   "cell_type": "markdown",
   "metadata": {
    "deletable": true,
    "editable": true
   },
   "source": [
    "## data validation"
   ]
  },
  {
   "cell_type": "markdown",
   "metadata": {
    "deletable": true,
    "editable": true
   },
   "source": [
    "### load data :"
   ]
  },
  {
   "cell_type": "code",
   "execution_count": null,
   "metadata": {
    "collapsed": false,
    "deletable": true,
    "editable": true
   },
   "outputs": [],
   "source": [
    "df = pd.read_csv('NYC-BikeShare-2015-2017-combined.csv')\n",
    "df.describe()"
   ]
  },
  {
   "cell_type": "code",
   "execution_count": null,
   "metadata": {
    "collapsed": false,
    "deletable": true,
    "editable": true
   },
   "outputs": [],
   "source": [
    "# 시간관련 문자 데이터를 datetime 으로 변경\n",
    "df['Start time'] = pd.to_datetime(df['Start Time'])\n",
    "df['Stop Time'] = pd.to_datetime(df['Stop Time'])\n",
    "df['Birth Year'] = pd.to_numeric(df['Birth Year'], downcast='integer') # 태어난 날을 정수화\n",
    "df.drop(['Unnamed: 0'], axis=1, inplace=True) # 불필요한 칼럼 삭제\n",
    "df.head()\n"
   ]
  },
  {
   "cell_type": "code",
   "execution_count": null,
   "metadata": {
    "collapsed": false,
    "deletable": true,
    "editable": true
   },
   "outputs": [],
   "source": [
    "# 무시해야할 필요가 있는 칼럼을 우선 생성해둠\n",
    "df[\"ignore\"] = False \n",
    "df[\"ignore_reason\"] = \"\""
   ]
  },
  {
   "cell_type": "code",
   "execution_count": null,
   "metadata": {
    "collapsed": false,
    "deletable": true,
    "editable": true
   },
   "outputs": [],
   "source": [
    "# df.shape = (735502,20) 이나 \n",
    "duplicates = df.duplicated(subset=None, keep='first') # 중복여부 확인, 중복이 있다면 첫번째 값만 남긴다\n",
    "# duplicates 는 해당 값이 True / False 로 된 값을 가지고 있음\n",
    "\n",
    "df.insert(len(df.columns), \"duplicate\", duplicates, allow_duplicates = True)\n",
    "# df 라는 이름의 dataframe 에 len(df.columns) 번째에 'duplicate' 라는 이름의 칼럼을 넣어라\n",
    "# 실제 값은 duplicates 를 넣는 것\n",
    "\n",
    "print(\"Found {} duplicate rows\".format(len(df[duplicates])))\n",
    "# df[duplicates] 는 df.duplicate = True 인 것만 불러오는 것\n"
   ]
  },
  {
   "cell_type": "code",
   "execution_count": null,
   "metadata": {
    "collapsed": true
   },
   "outputs": [],
   "source": [
    "# df bike id, start station id, end station 이 값이 없다면, ignore_reason 칼럼 값에 값 추가\n",
    "df.loc[df[\"Bike ID\"].isna(), \"ignore_reason\"] += \"Bike ID empty; \"\n",
    "df.loc[df[\"Start Station ID\"].isna(), \"ignore_reason\"] += \"Start Station empty; \"\n",
    "df.loc[df[\"End Station ID\"].isna(), \"ignore_reason\"] += \"End Station empty; \"\n",
    "\n",
    "# \n",
    "df.loc[~df[\"User Type\"].isin([\"Subscriber\", \"Customer\"]), \"ignore_reason\"] += \"User Type invalid; \"\n"
   ]
  },
  {
   "cell_type": "code",
   "execution_count": null,
   "metadata": {
    "collapsed": false
   },
   "outputs": [],
   "source": [
    "df[\"age\"] = YEAR - df[\"Birth Year\"]\n",
    "print(\"Max age: {}.\".format(df[\"age\"].max()))\n",
    "df.loc[df[\"age\"] > AGE_MAX, \"ignore_reason\"] += \"implausible age; \"\n",
    "df.loc[df[\"age\"] < AGE_MIN, \"ignore_reason\"] += \"implausible age; \"\n",
    "\n",
    "print(\"Min duration: {}.\".format(df[\"Trip Duration\"].min()))\n",
    "df.loc[df[\"Trip Duration\"] < DURATION_MIN, \"ignore_reason\"] += \"Trip Duration implausible; \"\n",
    "\n",
    "print(\"Max duration: {}.\".format(df[\"Trip Duration\"].max()))\n",
    "df.loc[df[\"Trip Duration\"] > DURATION_MAX, \"ignore_reason\"] += \"Trip Duration implausible; \"\n",
    "\n",
    "df.loc[df[\"duplicate\"] == True, \"ignore_reason\"] += \"duplicate; \""
   ]
  },
  {
   "cell_type": "code",
   "execution_count": null,
   "metadata": {
    "collapsed": true
   },
   "outputs": [],
   "source": [
    "df_subscribers = df[df[\"User Type\"] == \"Subscriber\"]\n",
    "df_customers = df[df[\"User Type\"] == \"Customer\"]\n",
    "DATAFRAMES = [df, df_subscribers, df_customers]"
   ]
  },
  {
   "cell_type": "code",
   "execution_count": null,
   "metadata": {
    "collapsed": true
   },
   "outputs": [],
   "source": []
  }
 ],
 "metadata": {
  "anaconda-cloud": {},
  "kernelspec": {
   "display_name": "Python [conda env:anaconda]",
   "language": "python",
   "name": "conda-env-anaconda-py"
  }
 },
 "nbformat": 4,
 "nbformat_minor": 1
}
