{
 "cells": [
  {
   "cell_type": "markdown",
   "metadata": {
    "deletable": true,
    "editable": true
   },
   "source": [
    "-  reference : https://www.kaggle.com/javalex/nyc-bike-data-analysis-subscribers-and-customers"
   ]
  },
  {
   "cell_type": "code",
   "execution_count": 1,
   "metadata": {
    "collapsed": false,
    "deletable": true,
    "editable": true
   },
   "outputs": [],
   "source": [
    "\n",
    "import numpy as np\n",
    "import pandas as pd\n",
    "import geopandas\n",
    "from shapely.geometry import Point, Polygon\n",
    "\n",
    "import os \n",
    "import sys\n",
    "\n",
    "import calendar\n",
    "import glob\n",
    "import math\n",
    "\n",
    "import seaborn as sns\n",
    "import matplotlib.pyplot as plt\n",
    "%matplotlib inline"
   ]
  },
  {
   "cell_type": "code",
   "execution_count": 2,
   "metadata": {
    "collapsed": true,
    "deletable": true,
    "editable": true
   },
   "outputs": [],
   "source": [
    "df = pd.read_csv('NYC-BikeShare-2015-2017-combined.csv')"
   ]
  },
  {
   "cell_type": "code",
   "execution_count": 3,
   "metadata": {
    "collapsed": false,
    "deletable": true,
    "editable": true
   },
   "outputs": [
    {
     "data": {
      "text/html": [
       "<div>\n",
       "<style scoped>\n",
       "    .dataframe tbody tr th:only-of-type {\n",
       "        vertical-align: middle;\n",
       "    }\n",
       "\n",
       "    .dataframe tbody tr th {\n",
       "        vertical-align: top;\n",
       "    }\n",
       "\n",
       "    .dataframe thead th {\n",
       "        text-align: right;\n",
       "    }\n",
       "</style>\n",
       "<table border=\"1\" class=\"dataframe\">\n",
       "  <thead>\n",
       "    <tr style=\"text-align: right;\">\n",
       "      <th></th>\n",
       "      <th>Unnamed: 0</th>\n",
       "      <th>Trip Duration</th>\n",
       "      <th>Start Time</th>\n",
       "      <th>Stop Time</th>\n",
       "      <th>Start Station ID</th>\n",
       "      <th>Start Station Name</th>\n",
       "      <th>Start Station Latitude</th>\n",
       "      <th>Start Station Longitude</th>\n",
       "      <th>End Station ID</th>\n",
       "      <th>End Station Name</th>\n",
       "      <th>End Station Latitude</th>\n",
       "      <th>End Station Longitude</th>\n",
       "      <th>Bike ID</th>\n",
       "      <th>User Type</th>\n",
       "      <th>Birth Year</th>\n",
       "      <th>Gender</th>\n",
       "      <th>Trip_Duration_in_min</th>\n",
       "    </tr>\n",
       "  </thead>\n",
       "  <tbody>\n",
       "    <tr>\n",
       "      <th>0</th>\n",
       "      <td>0</td>\n",
       "      <td>376</td>\n",
       "      <td>2015-10-01 00:16:26</td>\n",
       "      <td>2015-10-01 00:22:42</td>\n",
       "      <td>3212</td>\n",
       "      <td>Christ Hospital</td>\n",
       "      <td>40.734786</td>\n",
       "      <td>-74.050444</td>\n",
       "      <td>3207</td>\n",
       "      <td>Oakland Ave</td>\n",
       "      <td>40.737604</td>\n",
       "      <td>-74.052478</td>\n",
       "      <td>24470</td>\n",
       "      <td>Subscriber</td>\n",
       "      <td>1960.0</td>\n",
       "      <td>1</td>\n",
       "      <td>6</td>\n",
       "    </tr>\n",
       "    <tr>\n",
       "      <th>1</th>\n",
       "      <td>1</td>\n",
       "      <td>739</td>\n",
       "      <td>2015-10-01 00:27:12</td>\n",
       "      <td>2015-10-01 00:39:32</td>\n",
       "      <td>3207</td>\n",
       "      <td>Oakland Ave</td>\n",
       "      <td>40.737604</td>\n",
       "      <td>-74.052478</td>\n",
       "      <td>3212</td>\n",
       "      <td>Christ Hospital</td>\n",
       "      <td>40.734786</td>\n",
       "      <td>-74.050444</td>\n",
       "      <td>24481</td>\n",
       "      <td>Subscriber</td>\n",
       "      <td>1960.0</td>\n",
       "      <td>1</td>\n",
       "      <td>12</td>\n",
       "    </tr>\n",
       "    <tr>\n",
       "      <th>2</th>\n",
       "      <td>2</td>\n",
       "      <td>2714</td>\n",
       "      <td>2015-10-01 00:32:46</td>\n",
       "      <td>2015-10-01 01:18:01</td>\n",
       "      <td>3193</td>\n",
       "      <td>Lincoln Park</td>\n",
       "      <td>40.724605</td>\n",
       "      <td>-74.078406</td>\n",
       "      <td>3193</td>\n",
       "      <td>Lincoln Park</td>\n",
       "      <td>40.724605</td>\n",
       "      <td>-74.078406</td>\n",
       "      <td>24628</td>\n",
       "      <td>Subscriber</td>\n",
       "      <td>1983.0</td>\n",
       "      <td>1</td>\n",
       "      <td>45</td>\n",
       "    </tr>\n",
       "    <tr>\n",
       "      <th>3</th>\n",
       "      <td>3</td>\n",
       "      <td>275</td>\n",
       "      <td>2015-10-01 00:34:31</td>\n",
       "      <td>2015-10-01 00:39:06</td>\n",
       "      <td>3199</td>\n",
       "      <td>Newport Pkwy</td>\n",
       "      <td>40.728745</td>\n",
       "      <td>-74.032108</td>\n",
       "      <td>3187</td>\n",
       "      <td>Warren St</td>\n",
       "      <td>40.721124</td>\n",
       "      <td>-74.038051</td>\n",
       "      <td>24613</td>\n",
       "      <td>Subscriber</td>\n",
       "      <td>1975.0</td>\n",
       "      <td>1</td>\n",
       "      <td>5</td>\n",
       "    </tr>\n",
       "    <tr>\n",
       "      <th>4</th>\n",
       "      <td>4</td>\n",
       "      <td>561</td>\n",
       "      <td>2015-10-01 00:40:12</td>\n",
       "      <td>2015-10-01 00:49:33</td>\n",
       "      <td>3183</td>\n",
       "      <td>Exchange Place</td>\n",
       "      <td>40.716247</td>\n",
       "      <td>-74.033459</td>\n",
       "      <td>3192</td>\n",
       "      <td>Liberty Light Rail</td>\n",
       "      <td>40.711242</td>\n",
       "      <td>-74.055701</td>\n",
       "      <td>24668</td>\n",
       "      <td>Customer</td>\n",
       "      <td>1984.0</td>\n",
       "      <td>0</td>\n",
       "      <td>9</td>\n",
       "    </tr>\n",
       "  </tbody>\n",
       "</table>\n",
       "</div>"
      ],
      "text/plain": [
       "   Unnamed: 0  Trip Duration           Start Time            Stop Time  \\\n",
       "0           0            376  2015-10-01 00:16:26  2015-10-01 00:22:42   \n",
       "1           1            739  2015-10-01 00:27:12  2015-10-01 00:39:32   \n",
       "2           2           2714  2015-10-01 00:32:46  2015-10-01 01:18:01   \n",
       "3           3            275  2015-10-01 00:34:31  2015-10-01 00:39:06   \n",
       "4           4            561  2015-10-01 00:40:12  2015-10-01 00:49:33   \n",
       "\n",
       "   Start Station ID Start Station Name  Start Station Latitude  \\\n",
       "0              3212    Christ Hospital               40.734786   \n",
       "1              3207        Oakland Ave               40.737604   \n",
       "2              3193       Lincoln Park               40.724605   \n",
       "3              3199       Newport Pkwy               40.728745   \n",
       "4              3183     Exchange Place               40.716247   \n",
       "\n",
       "   Start Station Longitude  End Station ID    End Station Name  \\\n",
       "0               -74.050444            3207         Oakland Ave   \n",
       "1               -74.052478            3212     Christ Hospital   \n",
       "2               -74.078406            3193        Lincoln Park   \n",
       "3               -74.032108            3187           Warren St   \n",
       "4               -74.033459            3192  Liberty Light Rail   \n",
       "\n",
       "   End Station Latitude  End Station Longitude  Bike ID   User Type  \\\n",
       "0             40.737604             -74.052478    24470  Subscriber   \n",
       "1             40.734786             -74.050444    24481  Subscriber   \n",
       "2             40.724605             -74.078406    24628  Subscriber   \n",
       "3             40.721124             -74.038051    24613  Subscriber   \n",
       "4             40.711242             -74.055701    24668    Customer   \n",
       "\n",
       "   Birth Year  Gender  Trip_Duration_in_min  \n",
       "0      1960.0       1                     6  \n",
       "1      1960.0       1                    12  \n",
       "2      1983.0       1                    45  \n",
       "3      1975.0       1                     5  \n",
       "4      1984.0       0                     9  "
      ]
     },
     "execution_count": 3,
     "metadata": {},
     "output_type": "execute_result"
    }
   ],
   "source": [
    "df.head()"
   ]
  },
  {
   "cell_type": "markdown",
   "metadata": {
    "deletable": true,
    "editable": true
   },
   "source": [
    "## parameter"
   ]
  },
  {
   "cell_type": "code",
   "execution_count": 12,
   "metadata": {
    "collapsed": true,
    "deletable": true,
    "editable": true
   },
   "outputs": [],
   "source": [
    "YEAR = 2017\n",
    "\n",
    "#age\n",
    "AGE_REANGES = ['<20','20-29','30-39','40-49','50-59','60+'] # 각 나이 범위를 구함\n",
    "AGE_RANGES_LIMITS = [0, 20, 30, 40, 50, 60, np.inf]\n",
    "AGE_MIN = 0\n",
    "AGE_MAX = 100\n",
    "\n",
    "# trip duration\n",
    "DURATION_MIN = 2 # 2초 이상 사용한 사람이 최소 사용이라고 말할 수 있다\n",
    "DURATION_MAX = 30 * 24 * 60 * 60 # 30일 사용\n",
    "\n",
    "USERTYPES = ['all', 'subscriber','customer']\n",
    "\n",
    "#plotting\n",
    "FONT_SCALE = 1.5\n"
   ]
  },
  {
   "cell_type": "markdown",
   "metadata": {
    "deletable": true,
    "editable": true
   },
   "source": [
    "## data validation"
   ]
  },
  {
   "cell_type": "markdown",
   "metadata": {
    "deletable": true,
    "editable": true
   },
   "source": [
    "### load data :"
   ]
  },
  {
   "cell_type": "code",
   "execution_count": 5,
   "metadata": {
    "collapsed": false,
    "deletable": true,
    "editable": true
   },
   "outputs": [
    {
     "data": {
      "text/html": [
       "<div>\n",
       "<style scoped>\n",
       "    .dataframe tbody tr th:only-of-type {\n",
       "        vertical-align: middle;\n",
       "    }\n",
       "\n",
       "    .dataframe tbody tr th {\n",
       "        vertical-align: top;\n",
       "    }\n",
       "\n",
       "    .dataframe thead th {\n",
       "        text-align: right;\n",
       "    }\n",
       "</style>\n",
       "<table border=\"1\" class=\"dataframe\">\n",
       "  <thead>\n",
       "    <tr style=\"text-align: right;\">\n",
       "      <th></th>\n",
       "      <th>Unnamed: 0</th>\n",
       "      <th>Trip Duration</th>\n",
       "      <th>Start Station ID</th>\n",
       "      <th>Start Station Latitude</th>\n",
       "      <th>Start Station Longitude</th>\n",
       "      <th>End Station ID</th>\n",
       "      <th>End Station Latitude</th>\n",
       "      <th>End Station Longitude</th>\n",
       "      <th>Bike ID</th>\n",
       "      <th>Birth Year</th>\n",
       "      <th>Gender</th>\n",
       "      <th>Trip_Duration_in_min</th>\n",
       "    </tr>\n",
       "  </thead>\n",
       "  <tbody>\n",
       "    <tr>\n",
       "      <th>count</th>\n",
       "      <td>735502.000000</td>\n",
       "      <td>7.355020e+05</td>\n",
       "      <td>735502.000000</td>\n",
       "      <td>735502.000000</td>\n",
       "      <td>735502.000000</td>\n",
       "      <td>735502.000000</td>\n",
       "      <td>735502.000000</td>\n",
       "      <td>735502.000000</td>\n",
       "      <td>735502.000000</td>\n",
       "      <td>735502.000000</td>\n",
       "      <td>735502.000000</td>\n",
       "      <td>735502.000000</td>\n",
       "    </tr>\n",
       "    <tr>\n",
       "      <th>mean</th>\n",
       "      <td>10582.401084</td>\n",
       "      <td>9.343125e+02</td>\n",
       "      <td>3206.764183</td>\n",
       "      <td>40.723125</td>\n",
       "      <td>-74.046412</td>\n",
       "      <td>3203.387325</td>\n",
       "      <td>40.722371</td>\n",
       "      <td>-74.045415</td>\n",
       "      <td>24914.009133</td>\n",
       "      <td>1979.544239</td>\n",
       "      <td>1.123668</td>\n",
       "      <td>15.570669</td>\n",
       "    </tr>\n",
       "    <tr>\n",
       "      <th>std</th>\n",
       "      <td>7679.871929</td>\n",
       "      <td>4.063878e+04</td>\n",
       "      <td>26.546683</td>\n",
       "      <td>0.008121</td>\n",
       "      <td>0.011191</td>\n",
       "      <td>64.358120</td>\n",
       "      <td>0.095296</td>\n",
       "      <td>0.173044</td>\n",
       "      <td>753.768581</td>\n",
       "      <td>9.371192</td>\n",
       "      <td>0.519694</td>\n",
       "      <td>677.312437</td>\n",
       "    </tr>\n",
       "    <tr>\n",
       "      <th>min</th>\n",
       "      <td>0.000000</td>\n",
       "      <td>6.100000e+01</td>\n",
       "      <td>3183.000000</td>\n",
       "      <td>40.692640</td>\n",
       "      <td>-74.096937</td>\n",
       "      <td>147.000000</td>\n",
       "      <td>0.000000</td>\n",
       "      <td>-74.096937</td>\n",
       "      <td>14552.000000</td>\n",
       "      <td>1900.000000</td>\n",
       "      <td>0.000000</td>\n",
       "      <td>1.000000</td>\n",
       "    </tr>\n",
       "    <tr>\n",
       "      <th>25%</th>\n",
       "      <td>4484.000000</td>\n",
       "      <td>2.460000e+02</td>\n",
       "      <td>3186.000000</td>\n",
       "      <td>40.717732</td>\n",
       "      <td>-74.050656</td>\n",
       "      <td>3186.000000</td>\n",
       "      <td>40.716540</td>\n",
       "      <td>-74.050444</td>\n",
       "      <td>24486.000000</td>\n",
       "      <td>1975.000000</td>\n",
       "      <td>1.000000</td>\n",
       "      <td>4.000000</td>\n",
       "    </tr>\n",
       "    <tr>\n",
       "      <th>50%</th>\n",
       "      <td>9156.000000</td>\n",
       "      <td>3.830000e+02</td>\n",
       "      <td>3202.000000</td>\n",
       "      <td>40.721525</td>\n",
       "      <td>-74.044247</td>\n",
       "      <td>3199.000000</td>\n",
       "      <td>40.721124</td>\n",
       "      <td>-74.043845</td>\n",
       "      <td>24602.000000</td>\n",
       "      <td>1982.000000</td>\n",
       "      <td>1.000000</td>\n",
       "      <td>6.000000</td>\n",
       "    </tr>\n",
       "    <tr>\n",
       "      <th>75%</th>\n",
       "      <td>15003.000000</td>\n",
       "      <td>6.520000e+02</td>\n",
       "      <td>3211.000000</td>\n",
       "      <td>40.727596</td>\n",
       "      <td>-74.038051</td>\n",
       "      <td>3211.000000</td>\n",
       "      <td>40.727224</td>\n",
       "      <td>-74.036486</td>\n",
       "      <td>24711.000000</td>\n",
       "      <td>1986.000000</td>\n",
       "      <td>1.000000</td>\n",
       "      <td>11.000000</td>\n",
       "    </tr>\n",
       "    <tr>\n",
       "      <th>max</th>\n",
       "      <td>34148.000000</td>\n",
       "      <td>2.026021e+07</td>\n",
       "      <td>3426.000000</td>\n",
       "      <td>40.752559</td>\n",
       "      <td>-74.032108</td>\n",
       "      <td>3442.000000</td>\n",
       "      <td>40.801343</td>\n",
       "      <td>0.000000</td>\n",
       "      <td>29296.000000</td>\n",
       "      <td>2000.000000</td>\n",
       "      <td>2.000000</td>\n",
       "      <td>337670.000000</td>\n",
       "    </tr>\n",
       "  </tbody>\n",
       "</table>\n",
       "</div>"
      ],
      "text/plain": [
       "          Unnamed: 0  Trip Duration  Start Station ID  Start Station Latitude  \\\n",
       "count  735502.000000   7.355020e+05     735502.000000           735502.000000   \n",
       "mean    10582.401084   9.343125e+02       3206.764183               40.723125   \n",
       "std      7679.871929   4.063878e+04         26.546683                0.008121   \n",
       "min         0.000000   6.100000e+01       3183.000000               40.692640   \n",
       "25%      4484.000000   2.460000e+02       3186.000000               40.717732   \n",
       "50%      9156.000000   3.830000e+02       3202.000000               40.721525   \n",
       "75%     15003.000000   6.520000e+02       3211.000000               40.727596   \n",
       "max     34148.000000   2.026021e+07       3426.000000               40.752559   \n",
       "\n",
       "       Start Station Longitude  End Station ID  End Station Latitude  \\\n",
       "count            735502.000000   735502.000000         735502.000000   \n",
       "mean                -74.046412     3203.387325             40.722371   \n",
       "std                   0.011191       64.358120              0.095296   \n",
       "min                 -74.096937      147.000000              0.000000   \n",
       "25%                 -74.050656     3186.000000             40.716540   \n",
       "50%                 -74.044247     3199.000000             40.721124   \n",
       "75%                 -74.038051     3211.000000             40.727224   \n",
       "max                 -74.032108     3442.000000             40.801343   \n",
       "\n",
       "       End Station Longitude        Bike ID     Birth Year         Gender  \\\n",
       "count          735502.000000  735502.000000  735502.000000  735502.000000   \n",
       "mean              -74.045415   24914.009133    1979.544239       1.123668   \n",
       "std                 0.173044     753.768581       9.371192       0.519694   \n",
       "min               -74.096937   14552.000000    1900.000000       0.000000   \n",
       "25%               -74.050444   24486.000000    1975.000000       1.000000   \n",
       "50%               -74.043845   24602.000000    1982.000000       1.000000   \n",
       "75%               -74.036486   24711.000000    1986.000000       1.000000   \n",
       "max                 0.000000   29296.000000    2000.000000       2.000000   \n",
       "\n",
       "       Trip_Duration_in_min  \n",
       "count         735502.000000  \n",
       "mean              15.570669  \n",
       "std              677.312437  \n",
       "min                1.000000  \n",
       "25%                4.000000  \n",
       "50%                6.000000  \n",
       "75%               11.000000  \n",
       "max           337670.000000  "
      ]
     },
     "execution_count": 5,
     "metadata": {},
     "output_type": "execute_result"
    }
   ],
   "source": [
    "df = pd.read_csv('NYC-BikeShare-2015-2017-combined.csv')\n",
    "df.describe()"
   ]
  },
  {
   "cell_type": "code",
   "execution_count": 6,
   "metadata": {
    "collapsed": false,
    "deletable": true,
    "editable": true
   },
   "outputs": [
    {
     "data": {
      "text/html": [
       "<div>\n",
       "<style scoped>\n",
       "    .dataframe tbody tr th:only-of-type {\n",
       "        vertical-align: middle;\n",
       "    }\n",
       "\n",
       "    .dataframe tbody tr th {\n",
       "        vertical-align: top;\n",
       "    }\n",
       "\n",
       "    .dataframe thead th {\n",
       "        text-align: right;\n",
       "    }\n",
       "</style>\n",
       "<table border=\"1\" class=\"dataframe\">\n",
       "  <thead>\n",
       "    <tr style=\"text-align: right;\">\n",
       "      <th></th>\n",
       "      <th>Trip Duration</th>\n",
       "      <th>Start Time</th>\n",
       "      <th>Stop Time</th>\n",
       "      <th>Start Station ID</th>\n",
       "      <th>Start Station Name</th>\n",
       "      <th>Start Station Latitude</th>\n",
       "      <th>Start Station Longitude</th>\n",
       "      <th>End Station ID</th>\n",
       "      <th>End Station Name</th>\n",
       "      <th>End Station Latitude</th>\n",
       "      <th>End Station Longitude</th>\n",
       "      <th>Bike ID</th>\n",
       "      <th>User Type</th>\n",
       "      <th>Birth Year</th>\n",
       "      <th>Gender</th>\n",
       "      <th>Trip_Duration_in_min</th>\n",
       "      <th>Start time</th>\n",
       "    </tr>\n",
       "  </thead>\n",
       "  <tbody>\n",
       "    <tr>\n",
       "      <th>0</th>\n",
       "      <td>376</td>\n",
       "      <td>2015-10-01 00:16:26</td>\n",
       "      <td>2015-10-01 00:22:42</td>\n",
       "      <td>3212</td>\n",
       "      <td>Christ Hospital</td>\n",
       "      <td>40.734786</td>\n",
       "      <td>-74.050444</td>\n",
       "      <td>3207</td>\n",
       "      <td>Oakland Ave</td>\n",
       "      <td>40.737604</td>\n",
       "      <td>-74.052478</td>\n",
       "      <td>24470</td>\n",
       "      <td>Subscriber</td>\n",
       "      <td>1960</td>\n",
       "      <td>1</td>\n",
       "      <td>6</td>\n",
       "      <td>2015-10-01 00:16:26</td>\n",
       "    </tr>\n",
       "    <tr>\n",
       "      <th>1</th>\n",
       "      <td>739</td>\n",
       "      <td>2015-10-01 00:27:12</td>\n",
       "      <td>2015-10-01 00:39:32</td>\n",
       "      <td>3207</td>\n",
       "      <td>Oakland Ave</td>\n",
       "      <td>40.737604</td>\n",
       "      <td>-74.052478</td>\n",
       "      <td>3212</td>\n",
       "      <td>Christ Hospital</td>\n",
       "      <td>40.734786</td>\n",
       "      <td>-74.050444</td>\n",
       "      <td>24481</td>\n",
       "      <td>Subscriber</td>\n",
       "      <td>1960</td>\n",
       "      <td>1</td>\n",
       "      <td>12</td>\n",
       "      <td>2015-10-01 00:27:12</td>\n",
       "    </tr>\n",
       "    <tr>\n",
       "      <th>2</th>\n",
       "      <td>2714</td>\n",
       "      <td>2015-10-01 00:32:46</td>\n",
       "      <td>2015-10-01 01:18:01</td>\n",
       "      <td>3193</td>\n",
       "      <td>Lincoln Park</td>\n",
       "      <td>40.724605</td>\n",
       "      <td>-74.078406</td>\n",
       "      <td>3193</td>\n",
       "      <td>Lincoln Park</td>\n",
       "      <td>40.724605</td>\n",
       "      <td>-74.078406</td>\n",
       "      <td>24628</td>\n",
       "      <td>Subscriber</td>\n",
       "      <td>1983</td>\n",
       "      <td>1</td>\n",
       "      <td>45</td>\n",
       "      <td>2015-10-01 00:32:46</td>\n",
       "    </tr>\n",
       "    <tr>\n",
       "      <th>3</th>\n",
       "      <td>275</td>\n",
       "      <td>2015-10-01 00:34:31</td>\n",
       "      <td>2015-10-01 00:39:06</td>\n",
       "      <td>3199</td>\n",
       "      <td>Newport Pkwy</td>\n",
       "      <td>40.728745</td>\n",
       "      <td>-74.032108</td>\n",
       "      <td>3187</td>\n",
       "      <td>Warren St</td>\n",
       "      <td>40.721124</td>\n",
       "      <td>-74.038051</td>\n",
       "      <td>24613</td>\n",
       "      <td>Subscriber</td>\n",
       "      <td>1975</td>\n",
       "      <td>1</td>\n",
       "      <td>5</td>\n",
       "      <td>2015-10-01 00:34:31</td>\n",
       "    </tr>\n",
       "    <tr>\n",
       "      <th>4</th>\n",
       "      <td>561</td>\n",
       "      <td>2015-10-01 00:40:12</td>\n",
       "      <td>2015-10-01 00:49:33</td>\n",
       "      <td>3183</td>\n",
       "      <td>Exchange Place</td>\n",
       "      <td>40.716247</td>\n",
       "      <td>-74.033459</td>\n",
       "      <td>3192</td>\n",
       "      <td>Liberty Light Rail</td>\n",
       "      <td>40.711242</td>\n",
       "      <td>-74.055701</td>\n",
       "      <td>24668</td>\n",
       "      <td>Customer</td>\n",
       "      <td>1984</td>\n",
       "      <td>0</td>\n",
       "      <td>9</td>\n",
       "      <td>2015-10-01 00:40:12</td>\n",
       "    </tr>\n",
       "  </tbody>\n",
       "</table>\n",
       "</div>"
      ],
      "text/plain": [
       "   Trip Duration           Start Time           Stop Time  Start Station ID  \\\n",
       "0            376  2015-10-01 00:16:26 2015-10-01 00:22:42              3212   \n",
       "1            739  2015-10-01 00:27:12 2015-10-01 00:39:32              3207   \n",
       "2           2714  2015-10-01 00:32:46 2015-10-01 01:18:01              3193   \n",
       "3            275  2015-10-01 00:34:31 2015-10-01 00:39:06              3199   \n",
       "4            561  2015-10-01 00:40:12 2015-10-01 00:49:33              3183   \n",
       "\n",
       "  Start Station Name  Start Station Latitude  Start Station Longitude  \\\n",
       "0    Christ Hospital               40.734786               -74.050444   \n",
       "1        Oakland Ave               40.737604               -74.052478   \n",
       "2       Lincoln Park               40.724605               -74.078406   \n",
       "3       Newport Pkwy               40.728745               -74.032108   \n",
       "4     Exchange Place               40.716247               -74.033459   \n",
       "\n",
       "   End Station ID    End Station Name  End Station Latitude  \\\n",
       "0            3207         Oakland Ave             40.737604   \n",
       "1            3212     Christ Hospital             40.734786   \n",
       "2            3193        Lincoln Park             40.724605   \n",
       "3            3187           Warren St             40.721124   \n",
       "4            3192  Liberty Light Rail             40.711242   \n",
       "\n",
       "   End Station Longitude  Bike ID   User Type  Birth Year  Gender  \\\n",
       "0             -74.052478    24470  Subscriber        1960       1   \n",
       "1             -74.050444    24481  Subscriber        1960       1   \n",
       "2             -74.078406    24628  Subscriber        1983       1   \n",
       "3             -74.038051    24613  Subscriber        1975       1   \n",
       "4             -74.055701    24668    Customer        1984       0   \n",
       "\n",
       "   Trip_Duration_in_min          Start time  \n",
       "0                     6 2015-10-01 00:16:26  \n",
       "1                    12 2015-10-01 00:27:12  \n",
       "2                    45 2015-10-01 00:32:46  \n",
       "3                     5 2015-10-01 00:34:31  \n",
       "4                     9 2015-10-01 00:40:12  "
      ]
     },
     "execution_count": 6,
     "metadata": {},
     "output_type": "execute_result"
    }
   ],
   "source": [
    "# 시간관련 문자 데이터를 datetime 으로 변경\n",
    "df['Start time'] = pd.to_datetime(df['Start Time'])\n",
    "df['Stop Time'] = pd.to_datetime(df['Stop Time'])\n",
    "df['Birth Year'] = pd.to_numeric(df['Birth Year'], downcast='integer') # 태어난 날을 정수화\n",
    "df.drop(['Unnamed: 0'], axis=1, inplace=True) # 불필요한 칼럼 삭제\n",
    "df.head()\n"
   ]
  },
  {
   "cell_type": "code",
   "execution_count": 7,
   "metadata": {
    "collapsed": false,
    "deletable": true,
    "editable": true
   },
   "outputs": [],
   "source": [
    "# 무시해야할 필요가 있는 칼럼을 우선 생성해둠\n",
    "df[\"ignore\"] = False \n",
    "df[\"ignore_reason\"] = \"\""
   ]
  },
  {
   "cell_type": "code",
   "execution_count": 8,
   "metadata": {
    "collapsed": false,
    "deletable": true,
    "editable": true
   },
   "outputs": [
    {
     "name": "stdout",
     "output_type": "stream",
     "text": [
      "Found 395882 duplicate rows\n"
     ]
    }
   ],
   "source": [
    "# df.shape = (735502,20) 이나 \n",
    "duplicates = df.duplicated(subset=None, keep='first') # 중복여부 확인, 중복이 있다면 첫번째 값만 남긴다\n",
    "# duplicates 는 해당 값이 True / False 로 된 값을 가지고 있음\n",
    "\n",
    "df.insert(len(df.columns), \"duplicate\", duplicates, allow_duplicates = True)\n",
    "# df 라는 이름의 dataframe 에 len(df.columns) 번째에 'duplicate' 라는 이름의 칼럼을 넣어라\n",
    "# 실제 값은 duplicates 를 넣는 것\n",
    "\n",
    "print(\"Found {} duplicate rows\".format(len(df[duplicates])))\n",
    "# df[duplicates] 는 df.duplicate = True 인 것만 불러오는 것\n"
   ]
  },
  {
   "cell_type": "code",
   "execution_count": 9,
   "metadata": {
    "collapsed": true,
    "deletable": true,
    "editable": true
   },
   "outputs": [],
   "source": [
    "# df bike id, start station id, end station 이 값이 없다면, ignore_reason 칼럼 값에 값 추가\n",
    "df.loc[df[\"Bike ID\"].isna(), \"ignore_reason\"] += \"Bike ID empty; \"\n",
    "df.loc[df[\"Start Station ID\"].isna(), \"ignore_reason\"] += \"Start Station empty; \"\n",
    "df.loc[df[\"End Station ID\"].isna(), \"ignore_reason\"] += \"End Station empty; \"\n",
    "\n",
    "# \n",
    "df.loc[~df[\"User Type\"].isin([\"Subscriber\", \"Customer\"]), \"ignore_reason\"] += \"User Type invalid; \"\n"
   ]
  },
  {
   "cell_type": "code",
   "execution_count": 17,
   "metadata": {
    "collapsed": false,
    "deletable": true,
    "editable": true
   },
   "outputs": [
    {
     "name": "stdout",
     "output_type": "stream",
     "text": [
      "Max age: 117.\n",
      "Min duration: 61.\n",
      "Max duration: 20260211.\n"
     ]
    }
   ],
   "source": [
    "df[\"age\"] = YEAR - df[\"Birth Year\"] # 태어난 날부터 2017까지 나이라는 칼럼 할당해서 계산\n",
    "print(\"Max age: {}.\".format(df[\"age\"].max())) # 최대값 확인\n",
    "\n",
    "# 나보다 높고 낮을때 'implausible age' 라는 단어를 넣어줌\n",
    "df.loc[df[\"age\"] > AGE_MAX, \"ignore_reason\"] += \"implausible age; \" \n",
    "df.loc[df[\"age\"] < AGE_MIN, \"ignore_reason\"] += \"implausible age; \"\n",
    "\n",
    "# 자전거 탄 사람의 시간 최소, 최대값 확인\n",
    "print(\"Min duration: {}.\".format(df[\"Trip Duration\"].min()))\n",
    "df.loc[df[\"Trip Duration\"] < DURATION_MIN, \"ignore_reason\"] += \"Trip Duration implausible; \"\n",
    "\n",
    "print(\"Max duration: {}.\".format(df[\"Trip Duration\"].max()))\n",
    "df.loc[df[\"Trip Duration\"] > DURATION_MAX, \"ignore_reason\"] += \"Trip Duration implausible; \"\n",
    "\n",
    "# 중복된 값이 있다면 중복되었다고 표기\n",
    "df.loc[df[\"duplicate\"] == True, \"ignore_reason\"] += \"duplicate; \""
   ]
  },
  {
   "cell_type": "markdown",
   "metadata": {},
   "source": [
    "## 데이터 분석"
   ]
  },
  {
   "cell_type": "code",
   "execution_count": 18,
   "metadata": {
    "collapsed": true,
    "deletable": true,
    "editable": true
   },
   "outputs": [],
   "source": [
    "df_subscribers = df[df[\"User Type\"] == \"Subscriber\"]\n",
    "df_customers = df[df[\"User Type\"] == \"Customer\"]\n",
    "DATAFRAMES = [df, df_subscribers, df_customers]"
   ]
  },
  {
   "cell_type": "code",
   "execution_count": 19,
   "metadata": {
    "collapsed": true,
    "deletable": true,
    "editable": true
   },
   "outputs": [],
   "source": [
    "from numpy.random import seed\n",
    "seed(4)"
   ]
  },
  {
   "cell_type": "markdown",
   "metadata": {},
   "source": [
    "### 연령 기반 분포 확인"
   ]
  },
  {
   "cell_type": "code",
   "execution_count": 22,
   "metadata": {
    "collapsed": false,
    "scrolled": true
   },
   "outputs": [
    {
     "name": "stdout",
     "output_type": "stream",
     "text": [
      "all\n",
      "count    688140.000000\n",
      "mean          1.200802\n",
      "std           0.442696\n",
      "min           0.000000\n",
      "25%           1.000000\n",
      "50%           1.000000\n",
      "75%           1.000000\n",
      "max           2.000000\n",
      "Name: Gender, dtype: float64\n"
     ]
    },
    {
     "name": "stderr",
     "output_type": "stream",
     "text": [
      "/Users/jinseulpark/anaconda/lib/python3.5/site-packages/seaborn/categorical.py:1428: FutureWarning: remove_na is deprecated and is a private function. Do not use.\n",
      "  stat_data = remove_na(group_data)\n"
     ]
    },
    {
     "data": {
      "image/png": "[encoded data removed]",
      "text/plain": [
       "<Figure size 576x396 with 1 Axes>"
      ]
     },
     "metadata": {},
     "output_type": "display_data"
    },
    {
     "name": "stdout",
     "output_type": "stream",
     "text": [
      "subscriber\n",
      "count    688140.000000\n",
      "mean          1.200802\n",
      "std           0.442696\n",
      "min           0.000000\n",
      "25%           1.000000\n",
      "50%           1.000000\n",
      "75%           1.000000\n",
      "max           2.000000\n",
      "Name: Gender, dtype: float64\n"
     ]
    },
    {
     "data": {
      "image/png": "[encoded data removed]",
      "text/plain": [
       "<Figure size 576x396 with 1 Axes>"
      ]
     },
     "metadata": {},
     "output_type": "display_data"
    },
    {
     "name": "stdout",
     "output_type": "stream",
     "text": [
      "customer\n",
      "count    688140.000000\n",
      "mean          1.200802\n",
      "std           0.442696\n",
      "min           0.000000\n",
      "25%           1.000000\n",
      "50%           1.000000\n",
      "75%           1.000000\n",
      "max           2.000000\n",
      "Name: Gender, dtype: float64\n"
     ]
    },
    {
     "data": {
      "image/png": "[encoded data removed]",
      "text/plain": [
       "<Figure size 576x396 with 1 Axes>"
      ]
     },
     "metadata": {},
     "output_type": "display_data"
    }
   ],
   "source": [
    "for i in range(3):\n",
    "    dfr = DATAFRAMES[1] \n",
    "    print(USERTYPES[i])\n",
    "    print(dfr[\"Gender\"].describe())\n",
    "    with sns.plotting_context(\"notebook\", font_scale = FONT_SCALE):\n",
    "        f = sns.countplot(x = \"Gender\", data = DATAFRAMES[i])\n",
    "        plt.show()"
   ]
  },
  {
   "cell_type": "markdown",
   "metadata": {},
   "source": [
    "- 전체 유저 중, gender = 1 의 유저수가 가장 많다\n",
    "- 구독자의 경우에도, gender = 1 수가 가장 많다\n",
    "- 구독자가 아닌 경우, 대부분 때문에 0이 많다"
   ]
  },
  {
   "cell_type": "markdown",
   "metadata": {},
   "source": [
    "###"
   ]
  }
 ],
 "metadata": {
  "anaconda-cloud": {},
  "kernelspec": {
   "display_name": "Python [conda env:anaconda]",
   "language": "python",
   "name": "conda-env-anaconda-py"
  },
  "language_info": {
   "codemirror_mode": {
    "name": "ipython",
    "version": 3
   },
   "file_extension": ".py",
   "mimetype": "text/x-python",
   "name": "python",
   "nbconvert_exporter": "python",
   "pygments_lexer": "ipython3",
   "version": "3.5.6"
  }
 },
 "nbformat": 4,
 "nbformat_minor": 1
}
