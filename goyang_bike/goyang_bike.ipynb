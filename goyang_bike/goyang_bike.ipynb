{
 "cells": [
  {
   "cell_type": "markdown",
   "metadata": {
    "deletable": true,
    "editable": true
   },
   "source": [
    "출처 : https://compas.lh.or.kr/subj/past/data?subjNo=SBJ_2007_001\n",
    "        \n",
    "## 고양시 공공자전거 스테이션 최적지 선정 데이터셋\n",
    "\n",
    "- 2017~ 19년 고양시 공공자전거 운영 이력 정보를 가지고, 최대 300대 개소를 어디에 위치할 지 조정 필요\n",
    "- 한 스테이션에는 30개의 자전거 수용 가능"
   ]
  },
  {
   "cell_type": "code",
   "execution_count": 1,
   "metadata": {
    "collapsed": true,
    "deletable": true,
    "editable": true
   },
   "outputs": [],
   "source": [
    "import pandas as pd\n",
    "import os\n",
    "import matplotlib.pyplot as plt\n",
    "%matplotlib inline"
   ]
  },
  {
   "cell_type": "code",
   "execution_count": 2,
   "metadata": {
    "collapsed": false,
    "deletable": true,
    "editable": true
   },
   "outputs": [
    {
     "name": "stderr",
     "output_type": "stream",
     "text": [
      "/Users/jinseulpark/anaconda/lib/python3.5/site-packages/IPython/core/interactiveshell.py:2728: DtypeWarning: Columns (9) have mixed types. Specify dtype option on import or set low_memory=False.\n",
      "  interactivity=interactivity, compiler=compiler, result=result)\n"
     ]
    }
   ],
   "source": [
    "usage = pd.read_csv('./SBJ_2007_001/01.운영이력.csv')"
   ]
  },
  {
   "cell_type": "markdown",
   "metadata": {
    "deletable": true,
    "editable": true
   },
   "source": [
    "- LEAS_NO    대여 번호\n",
    "- LEAS_DATE    대여 시간\n",
    "- LEAS_STATION    대여 스테이션 번호\n",
    "- LEAS_DEF_NO    대여 거치대 번호\n",
    "- RTN_DATE    반납 시간\n",
    "- RTN_STATION    반납 스테이션 번호\n",
    "- RTN_DEF_NO    반납 거치대 번호\n",
    "- RTN_PROCESS    관제반납구분값 (01:관제반납/02:관리자반납/03:관리자반출/04:타 사용자 반납/05:다른 사용자 반출)\n",
    "- TRNV_QTY    추정 이동 거리(m)\n",
    "- MEMB_DIV    회원 구분(비회원은 99이며 나머지는 정회원)\n",
    "- MEMB_NO    회원 번호\n",
    "- TEMP_MEMB_NO    비회원 번호\n",
    "- BIKE_TAG    자전거 번호"
   ]
  },
  {
   "cell_type": "code",
   "execution_count": 3,
   "metadata": {
    "collapsed": false,
    "deletable": true,
    "editable": true
   },
   "outputs": [],
   "source": [
    "usage.columns = usage.columns.str.lower()\n",
    "# leas_no "
   ]
  },
  {
   "cell_type": "code",
   "execution_count": 4,
   "metadata": {
    "collapsed": false,
    "deletable": true,
    "editable": true
   },
   "outputs": [],
   "source": [
    "col_kr={'LEAS_NO':'대여 번호'\n",
    ",'LEAS_DATE':'대여 시간'\n",
    ",'LEAS_STATION':'대여 스테이션 번호'\n",
    ",'LEAS_DEF_NO':'대여 거치대 번호'\n",
    ",'RTN_DATE':'반납 시간'\n",
    ",'RTN_STATION':'반납 스테이션 번호'\n",
    ",'RTN_DEF_NO':'반납 거치대 번호'\n",
    ",'RTN_PROCESS':'관제반납구분값 (01:관제반납/02:관리자반납/03:관리자반출/04:타 사용자 반납/05:다른 사용자 반출)'\n",
    ",'TRNV_QTY':'추정 이동 거리(m)'\n",
    ",'MEMB_DIV':'회원 구분(비회원은 99이며 나머지는 정회원)'\n",
    ",'MEMB_NO':'회원 번호'\n",
    ",'TEMP_MEMB_NO':'비회원 번호'\n",
    ",'BIKE_TAG':'자전거 번호'}\n"
   ]
  },
  {
   "cell_type": "code",
   "execution_count": 5,
   "metadata": {
    "collapsed": false,
    "deletable": true,
    "editable": true
   },
   "outputs": [
    {
     "data": {
      "text/plain": [
       "(3142688, 14)"
      ]
     },
     "execution_count": 5,
     "metadata": {},
     "output_type": "execute_result"
    }
   ],
   "source": [
    "usage.shape"
   ]
  },
  {
   "cell_type": "code",
   "execution_count": 6,
   "metadata": {
    "collapsed": false,
    "deletable": true,
    "editable": true
   },
   "outputs": [
    {
     "data": {
      "text/html": [
       "<div>\n",
       "<style scoped>\n",
       "    .dataframe tbody tr th:only-of-type {\n",
       "        vertical-align: middle;\n",
       "    }\n",
       "\n",
       "    .dataframe tbody tr th {\n",
       "        vertical-align: top;\n",
       "    }\n",
       "\n",
       "    .dataframe thead th {\n",
       "        text-align: right;\n",
       "    }\n",
       "</style>\n",
       "<table border=\"1\" class=\"dataframe\">\n",
       "  <thead>\n",
       "    <tr style=\"text-align: right;\">\n",
       "      <th></th>\n",
       "      <th>leas_no</th>\n",
       "      <th>leas_stat</th>\n",
       "      <th>leas_station</th>\n",
       "      <th>leas_def_no</th>\n",
       "      <th>rtn_station</th>\n",
       "      <th>rtn_def_no</th>\n",
       "      <th>trnv_qty</th>\n",
       "      <th>memb_no</th>\n",
       "      <th>temp_memb_no</th>\n",
       "      <th>rtn_process</th>\n",
       "    </tr>\n",
       "  </thead>\n",
       "  <tbody>\n",
       "    <tr>\n",
       "      <th>count</th>\n",
       "      <td>3.142688e+06</td>\n",
       "      <td>3142688.0</td>\n",
       "      <td>3.142688e+06</td>\n",
       "      <td>3.142688e+06</td>\n",
       "      <td>3.142688e+06</td>\n",
       "      <td>3.142688e+06</td>\n",
       "      <td>2.747029e+06</td>\n",
       "      <td>3.142688e+06</td>\n",
       "      <td>3.142685e+06</td>\n",
       "      <td>410039.000000</td>\n",
       "    </tr>\n",
       "    <tr>\n",
       "      <th>mean</th>\n",
       "      <td>1.882270e+07</td>\n",
       "      <td>2.0</td>\n",
       "      <td>2.487533e+02</td>\n",
       "      <td>1.335679e+01</td>\n",
       "      <td>2.175205e+02</td>\n",
       "      <td>1.119356e+01</td>\n",
       "      <td>4.895855e+03</td>\n",
       "      <td>1.315026e+05</td>\n",
       "      <td>9.174356e+05</td>\n",
       "      <td>1.121984</td>\n",
       "    </tr>\n",
       "    <tr>\n",
       "      <th>std</th>\n",
       "      <td>1.674327e+06</td>\n",
       "      <td>0.0</td>\n",
       "      <td>6.367190e+01</td>\n",
       "      <td>7.404129e+00</td>\n",
       "      <td>1.017983e+02</td>\n",
       "      <td>8.703353e+00</td>\n",
       "      <td>1.264047e+04</td>\n",
       "      <td>9.720860e+04</td>\n",
       "      <td>1.587276e+06</td>\n",
       "      <td>0.590959</td>\n",
       "    </tr>\n",
       "    <tr>\n",
       "      <th>min</th>\n",
       "      <td>1.594554e+07</td>\n",
       "      <td>2.0</td>\n",
       "      <td>1.010000e+02</td>\n",
       "      <td>1.000000e+00</td>\n",
       "      <td>0.000000e+00</td>\n",
       "      <td>0.000000e+00</td>\n",
       "      <td>0.000000e+00</td>\n",
       "      <td>0.000000e+00</td>\n",
       "      <td>0.000000e+00</td>\n",
       "      <td>1.000000</td>\n",
       "    </tr>\n",
       "    <tr>\n",
       "      <th>25%</th>\n",
       "      <td>1.735176e+07</td>\n",
       "      <td>2.0</td>\n",
       "      <td>2.130000e+02</td>\n",
       "      <td>8.000000e+00</td>\n",
       "      <td>2.030000e+02</td>\n",
       "      <td>3.000000e+00</td>\n",
       "      <td>0.000000e+00</td>\n",
       "      <td>0.000000e+00</td>\n",
       "      <td>0.000000e+00</td>\n",
       "      <td>1.000000</td>\n",
       "    </tr>\n",
       "    <tr>\n",
       "      <th>50%</th>\n",
       "      <td>1.883170e+07</td>\n",
       "      <td>2.0</td>\n",
       "      <td>2.460000e+02</td>\n",
       "      <td>1.300000e+01</td>\n",
       "      <td>2.320000e+02</td>\n",
       "      <td>1.100000e+01</td>\n",
       "      <td>0.000000e+00</td>\n",
       "      <td>1.849010e+05</td>\n",
       "      <td>0.000000e+00</td>\n",
       "      <td>1.000000</td>\n",
       "    </tr>\n",
       "    <tr>\n",
       "      <th>75%</th>\n",
       "      <td>2.029006e+07</td>\n",
       "      <td>2.0</td>\n",
       "      <td>3.090000e+02</td>\n",
       "      <td>1.800000e+01</td>\n",
       "      <td>3.070000e+02</td>\n",
       "      <td>1.700000e+01</td>\n",
       "      <td>0.000000e+00</td>\n",
       "      <td>2.065770e+05</td>\n",
       "      <td>3.191189e+06</td>\n",
       "      <td>1.000000</td>\n",
       "    </tr>\n",
       "    <tr>\n",
       "      <th>max</th>\n",
       "      <td>2.171861e+07</td>\n",
       "      <td>2.0</td>\n",
       "      <td>9.980000e+02</td>\n",
       "      <td>4.000000e+01</td>\n",
       "      <td>9.990000e+02</td>\n",
       "      <td>9.900000e+01</td>\n",
       "      <td>6.553500e+04</td>\n",
       "      <td>4.099376e+06</td>\n",
       "      <td>4.124667e+06</td>\n",
       "      <td>5.000000</td>\n",
       "    </tr>\n",
       "  </tbody>\n",
       "</table>\n",
       "</div>"
      ],
      "text/plain": [
       "            leas_no  leas_stat  leas_station   leas_def_no   rtn_station  \\\n",
       "count  3.142688e+06  3142688.0  3.142688e+06  3.142688e+06  3.142688e+06   \n",
       "mean   1.882270e+07        2.0  2.487533e+02  1.335679e+01  2.175205e+02   \n",
       "std    1.674327e+06        0.0  6.367190e+01  7.404129e+00  1.017983e+02   \n",
       "min    1.594554e+07        2.0  1.010000e+02  1.000000e+00  0.000000e+00   \n",
       "25%    1.735176e+07        2.0  2.130000e+02  8.000000e+00  2.030000e+02   \n",
       "50%    1.883170e+07        2.0  2.460000e+02  1.300000e+01  2.320000e+02   \n",
       "75%    2.029006e+07        2.0  3.090000e+02  1.800000e+01  3.070000e+02   \n",
       "max    2.171861e+07        2.0  9.980000e+02  4.000000e+01  9.990000e+02   \n",
       "\n",
       "         rtn_def_no      trnv_qty       memb_no  temp_memb_no    rtn_process  \n",
       "count  3.142688e+06  2.747029e+06  3.142688e+06  3.142685e+06  410039.000000  \n",
       "mean   1.119356e+01  4.895855e+03  1.315026e+05  9.174356e+05       1.121984  \n",
       "std    8.703353e+00  1.264047e+04  9.720860e+04  1.587276e+06       0.590959  \n",
       "min    0.000000e+00  0.000000e+00  0.000000e+00  0.000000e+00       1.000000  \n",
       "25%    3.000000e+00  0.000000e+00  0.000000e+00  0.000000e+00       1.000000  \n",
       "50%    1.100000e+01  0.000000e+00  1.849010e+05  0.000000e+00       1.000000  \n",
       "75%    1.700000e+01  0.000000e+00  2.065770e+05  3.191189e+06       1.000000  \n",
       "max    9.900000e+01  6.553500e+04  4.099376e+06  4.124667e+06       5.000000  "
      ]
     },
     "execution_count": 6,
     "metadata": {},
     "output_type": "execute_result"
    }
   ],
   "source": [
    "usage.describe()"
   ]
  },
  {
   "cell_type": "code",
   "execution_count": 7,
   "metadata": {
    "collapsed": false,
    "deletable": true,
    "editable": true,
    "scrolled": true
   },
   "outputs": [
    {
     "name": "stdout",
     "output_type": "stream",
     "text": [
      "대여 번호\n",
      "대여 시간\n",
      "대여 스테이션 번호\n",
      "대여 거치대 번호\n",
      "반납 시간\n",
      "반납 스테이션 번호\n",
      "반납 거치대 번호\n",
      "추정 이동 거리(m)\n",
      "회원 구분(비회원은 99이며 나머지는 정회원)\n",
      "회원 번호\n",
      "비회원 번호\n",
      "자전거 번호\n",
      "관제반납구분값 (01:관제반납/02:관리자반납/03:관리자반출/04:타 사용자 반납/05:다른 사용자 반출)\n",
      "1.0    391188\n",
      "3.0     12693\n",
      "5.0      6158\n",
      "Name: rtn_process, dtype: int64\n"
     ]
    },
    {
     "data": {
      "image/png": "[encoded data removed]",
      "text/plain": [
       "<Figure size 432x288 with 1 Axes>"
      ]
     },
     "metadata": {},
     "output_type": "display_data"
    }
   ],
   "source": [
    "for i in usage.columns.to_list():\n",
    "    try:\n",
    "        print(col_kr[i.upper()])\n",
    "        nunique_cnt =usage[i].nunique()\n",
    "        if nunique_cnt < 10:\n",
    "            print(usage[i].value_counts())\n",
    "            plt.plot(usage[i].value_counts())\n",
    "    except:\n",
    "        continue"
   ]
  },
  {
   "cell_type": "code",
   "execution_count": 8,
   "metadata": {
    "collapsed": false,
    "deletable": true,
    "editable": true
   },
   "outputs": [
    {
     "data": {
      "text/html": [
       "<div>\n",
       "<style scoped>\n",
       "    .dataframe tbody tr th:only-of-type {\n",
       "        vertical-align: middle;\n",
       "    }\n",
       "\n",
       "    .dataframe tbody tr th {\n",
       "        vertical-align: top;\n",
       "    }\n",
       "\n",
       "    .dataframe thead th {\n",
       "        text-align: right;\n",
       "    }\n",
       "</style>\n",
       "<table border=\"1\" class=\"dataframe\">\n",
       "  <thead>\n",
       "    <tr style=\"text-align: right;\">\n",
       "      <th></th>\n",
       "      <th>leas_no</th>\n",
       "      <th>leas_stat</th>\n",
       "      <th>leas_date</th>\n",
       "      <th>leas_station</th>\n",
       "      <th>leas_def_no</th>\n",
       "      <th>rtn_date</th>\n",
       "      <th>rtn_station</th>\n",
       "      <th>rtn_def_no</th>\n",
       "      <th>trnv_qty</th>\n",
       "      <th>memb_div</th>\n",
       "      <th>memb_no</th>\n",
       "      <th>temp_memb_no</th>\n",
       "      <th>bike_tag</th>\n",
       "      <th>rtn_process</th>\n",
       "    </tr>\n",
       "  </thead>\n",
       "  <tbody>\n",
       "    <tr>\n",
       "      <th>0</th>\n",
       "      <td>15945541</td>\n",
       "      <td>2</td>\n",
       "      <td>2017-01-01 00:00:41</td>\n",
       "      <td>213</td>\n",
       "      <td>18</td>\n",
       "      <td>2017-01-01 00:13:52</td>\n",
       "      <td>260</td>\n",
       "      <td>17</td>\n",
       "      <td>0.0</td>\n",
       "      <td>6</td>\n",
       "      <td>164203</td>\n",
       "      <td>0.0</td>\n",
       "      <td>1A844000000BB7</td>\n",
       "      <td>NaN</td>\n",
       "    </tr>\n",
       "    <tr>\n",
       "      <th>1</th>\n",
       "      <td>15945542</td>\n",
       "      <td>2</td>\n",
       "      <td>2017-01-01 00:01:03</td>\n",
       "      <td>231</td>\n",
       "      <td>4</td>\n",
       "      <td>2017-01-01 00:50:24</td>\n",
       "      <td>231</td>\n",
       "      <td>17</td>\n",
       "      <td>31039.0</td>\n",
       "      <td>1</td>\n",
       "      <td>187551</td>\n",
       "      <td>0.0</td>\n",
       "      <td>1A844000000494</td>\n",
       "      <td>NaN</td>\n",
       "    </tr>\n",
       "    <tr>\n",
       "      <th>2</th>\n",
       "      <td>15945543</td>\n",
       "      <td>2</td>\n",
       "      <td>2017-01-01 00:01:50</td>\n",
       "      <td>119</td>\n",
       "      <td>14</td>\n",
       "      <td>2017-01-01 01:01:50</td>\n",
       "      <td>0</td>\n",
       "      <td>0</td>\n",
       "      <td>NaN</td>\n",
       "      <td>12</td>\n",
       "      <td>168994</td>\n",
       "      <td>0.0</td>\n",
       "      <td>1A844000000533</td>\n",
       "      <td>1.0</td>\n",
       "    </tr>\n",
       "    <tr>\n",
       "      <th>3</th>\n",
       "      <td>15945544</td>\n",
       "      <td>2</td>\n",
       "      <td>2017-01-01 00:02:09</td>\n",
       "      <td>121</td>\n",
       "      <td>17</td>\n",
       "      <td>2017-01-01 00:15:58</td>\n",
       "      <td>133</td>\n",
       "      <td>14</td>\n",
       "      <td>15490.0</td>\n",
       "      <td>12</td>\n",
       "      <td>183971</td>\n",
       "      <td>0.0</td>\n",
       "      <td>1A844000000731</td>\n",
       "      <td>NaN</td>\n",
       "    </tr>\n",
       "    <tr>\n",
       "      <th>4</th>\n",
       "      <td>15945545</td>\n",
       "      <td>2</td>\n",
       "      <td>2017-01-01 00:03:32</td>\n",
       "      <td>320</td>\n",
       "      <td>29</td>\n",
       "      <td>2017-01-01 00:18:44</td>\n",
       "      <td>259</td>\n",
       "      <td>27</td>\n",
       "      <td>0.0</td>\n",
       "      <td>12</td>\n",
       "      <td>167475</td>\n",
       "      <td>0.0</td>\n",
       "      <td>1A84400000F343</td>\n",
       "      <td>NaN</td>\n",
       "    </tr>\n",
       "  </tbody>\n",
       "</table>\n",
       "</div>"
      ],
      "text/plain": [
       "    leas_no  leas_stat            leas_date  leas_station  leas_def_no  \\\n",
       "0  15945541          2  2017-01-01 00:00:41           213           18   \n",
       "1  15945542          2  2017-01-01 00:01:03           231            4   \n",
       "2  15945543          2  2017-01-01 00:01:50           119           14   \n",
       "3  15945544          2  2017-01-01 00:02:09           121           17   \n",
       "4  15945545          2  2017-01-01 00:03:32           320           29   \n",
       "\n",
       "              rtn_date  rtn_station  rtn_def_no  trnv_qty memb_div  memb_no  \\\n",
       "0  2017-01-01 00:13:52          260          17       0.0        6   164203   \n",
       "1  2017-01-01 00:50:24          231          17   31039.0        1   187551   \n",
       "2  2017-01-01 01:01:50            0           0       NaN       12   168994   \n",
       "3  2017-01-01 00:15:58          133          14   15490.0       12   183971   \n",
       "4  2017-01-01 00:18:44          259          27       0.0       12   167475   \n",
       "\n",
       "   temp_memb_no        bike_tag  rtn_process  \n",
       "0           0.0  1A844000000BB7          NaN  \n",
       "1           0.0  1A844000000494          NaN  \n",
       "2           0.0  1A844000000533          1.0  \n",
       "3           0.0  1A844000000731          NaN  \n",
       "4           0.0  1A84400000F343          NaN  "
      ]
     },
     "execution_count": 8,
     "metadata": {},
     "output_type": "execute_result"
    }
   ],
   "source": [
    "usage.head()"
   ]
  },
  {
   "cell_type": "code",
   "execution_count": 9,
   "metadata": {
    "collapsed": false,
    "deletable": true,
    "editable": true
   },
   "outputs": [
    {
     "data": {
      "text/plain": [
       "leas_no           int64\n",
       "leas_stat         int64\n",
       "leas_date        object\n",
       "leas_station      int64\n",
       "leas_def_no       int64\n",
       "rtn_date         object\n",
       "rtn_station       int64\n",
       "rtn_def_no        int64\n",
       "trnv_qty        float64\n",
       "memb_div         object\n",
       "memb_no           int64\n",
       "temp_memb_no    float64\n",
       "bike_tag         object\n",
       "rtn_process     float64\n",
       "dtype: object"
      ]
     },
     "execution_count": 9,
     "metadata": {},
     "output_type": "execute_result"
    }
   ],
   "source": [
    "usage.dtypes"
   ]
  },
  {
   "cell_type": "code",
   "execution_count": 10,
   "metadata": {
    "collapsed": false,
    "deletable": true,
    "editable": true
   },
   "outputs": [],
   "source": [
    "usage['leas_date_dt'] = pd.to_datetime(usage['leas_date'], format = '%Y-%m-%d %H:%M:%S')\n",
    "usage['rtn_date_dt'] = pd.to_datetime(usage['rtn_date'], format = '%Y-%m-%d %H:%M:%S')"
   ]
  },
  {
   "cell_type": "code",
   "execution_count": 11,
   "metadata": {
    "collapsed": true,
    "deletable": true,
    "editable": true
   },
   "outputs": [],
   "source": [
    "usage['rtn_leas_timegap'] = usage['rtn_date_dt'] - usage['leas_date_dt']"
   ]
  },
  {
   "cell_type": "code",
   "execution_count": 12,
   "metadata": {
    "collapsed": false,
    "deletable": true,
    "editable": true
   },
   "outputs": [],
   "source": [
    "usage['timegap_sec'] = usage['rtn_leas_timegap'].dt.total_seconds()"
   ]
  },
  {
   "cell_type": "code",
   "execution_count": 13,
   "metadata": {
    "collapsed": false,
    "deletable": true,
    "editable": true
   },
   "outputs": [
    {
     "data": {
      "text/html": [
       "<div>\n",
       "<style scoped>\n",
       "    .dataframe tbody tr th:only-of-type {\n",
       "        vertical-align: middle;\n",
       "    }\n",
       "\n",
       "    .dataframe tbody tr th {\n",
       "        vertical-align: top;\n",
       "    }\n",
       "\n",
       "    .dataframe thead th {\n",
       "        text-align: right;\n",
       "    }\n",
       "</style>\n",
       "<table border=\"1\" class=\"dataframe\">\n",
       "  <thead>\n",
       "    <tr style=\"text-align: right;\">\n",
       "      <th></th>\n",
       "      <th>memb_no</th>\n",
       "      <th>temp_memb_no</th>\n",
       "    </tr>\n",
       "    <tr>\n",
       "      <th>timegap_sec</th>\n",
       "      <th></th>\n",
       "      <th></th>\n",
       "    </tr>\n",
       "  </thead>\n",
       "  <tbody>\n",
       "    <tr>\n",
       "      <th>0.0</th>\n",
       "      <td>6636</td>\n",
       "      <td>6636</td>\n",
       "    </tr>\n",
       "    <tr>\n",
       "      <th>1.0</th>\n",
       "      <td>2162</td>\n",
       "      <td>2162</td>\n",
       "    </tr>\n",
       "    <tr>\n",
       "      <th>2.0</th>\n",
       "      <td>2960</td>\n",
       "      <td>2960</td>\n",
       "    </tr>\n",
       "    <tr>\n",
       "      <th>3.0</th>\n",
       "      <td>6093</td>\n",
       "      <td>6093</td>\n",
       "    </tr>\n",
       "    <tr>\n",
       "      <th>4.0</th>\n",
       "      <td>4586</td>\n",
       "      <td>4586</td>\n",
       "    </tr>\n",
       "    <tr>\n",
       "      <th>5.0</th>\n",
       "      <td>3591</td>\n",
       "      <td>3591</td>\n",
       "    </tr>\n",
       "    <tr>\n",
       "      <th>6.0</th>\n",
       "      <td>3360</td>\n",
       "      <td>3360</td>\n",
       "    </tr>\n",
       "    <tr>\n",
       "      <th>7.0</th>\n",
       "      <td>2798</td>\n",
       "      <td>2798</td>\n",
       "    </tr>\n",
       "    <tr>\n",
       "      <th>8.0</th>\n",
       "      <td>3340</td>\n",
       "      <td>3340</td>\n",
       "    </tr>\n",
       "    <tr>\n",
       "      <th>9.0</th>\n",
       "      <td>3661</td>\n",
       "      <td>3661</td>\n",
       "    </tr>\n",
       "    <tr>\n",
       "      <th>10.0</th>\n",
       "      <td>3130</td>\n",
       "      <td>3130</td>\n",
       "    </tr>\n",
       "    <tr>\n",
       "      <th>11.0</th>\n",
       "      <td>3067</td>\n",
       "      <td>3067</td>\n",
       "    </tr>\n",
       "    <tr>\n",
       "      <th>12.0</th>\n",
       "      <td>3453</td>\n",
       "      <td>3453</td>\n",
       "    </tr>\n",
       "    <tr>\n",
       "      <th>13.0</th>\n",
       "      <td>2836</td>\n",
       "      <td>2836</td>\n",
       "    </tr>\n",
       "    <tr>\n",
       "      <th>14.0</th>\n",
       "      <td>2559</td>\n",
       "      <td>2559</td>\n",
       "    </tr>\n",
       "    <tr>\n",
       "      <th>15.0</th>\n",
       "      <td>2341</td>\n",
       "      <td>2341</td>\n",
       "    </tr>\n",
       "    <tr>\n",
       "      <th>16.0</th>\n",
       "      <td>2234</td>\n",
       "      <td>2234</td>\n",
       "    </tr>\n",
       "    <tr>\n",
       "      <th>17.0</th>\n",
       "      <td>2151</td>\n",
       "      <td>2151</td>\n",
       "    </tr>\n",
       "    <tr>\n",
       "      <th>18.0</th>\n",
       "      <td>2038</td>\n",
       "      <td>2038</td>\n",
       "    </tr>\n",
       "    <tr>\n",
       "      <th>19.0</th>\n",
       "      <td>1988</td>\n",
       "      <td>1988</td>\n",
       "    </tr>\n",
       "    <tr>\n",
       "      <th>20.0</th>\n",
       "      <td>1928</td>\n",
       "      <td>1928</td>\n",
       "    </tr>\n",
       "    <tr>\n",
       "      <th>21.0</th>\n",
       "      <td>1876</td>\n",
       "      <td>1876</td>\n",
       "    </tr>\n",
       "    <tr>\n",
       "      <th>22.0</th>\n",
       "      <td>1919</td>\n",
       "      <td>1919</td>\n",
       "    </tr>\n",
       "    <tr>\n",
       "      <th>23.0</th>\n",
       "      <td>1861</td>\n",
       "      <td>1861</td>\n",
       "    </tr>\n",
       "    <tr>\n",
       "      <th>24.0</th>\n",
       "      <td>1765</td>\n",
       "      <td>1765</td>\n",
       "    </tr>\n",
       "    <tr>\n",
       "      <th>25.0</th>\n",
       "      <td>1757</td>\n",
       "      <td>1757</td>\n",
       "    </tr>\n",
       "    <tr>\n",
       "      <th>26.0</th>\n",
       "      <td>1697</td>\n",
       "      <td>1697</td>\n",
       "    </tr>\n",
       "    <tr>\n",
       "      <th>27.0</th>\n",
       "      <td>1622</td>\n",
       "      <td>1622</td>\n",
       "    </tr>\n",
       "    <tr>\n",
       "      <th>28.0</th>\n",
       "      <td>1736</td>\n",
       "      <td>1736</td>\n",
       "    </tr>\n",
       "    <tr>\n",
       "      <th>29.0</th>\n",
       "      <td>1646</td>\n",
       "      <td>1646</td>\n",
       "    </tr>\n",
       "    <tr>\n",
       "      <th>...</th>\n",
       "      <td>...</td>\n",
       "      <td>...</td>\n",
       "    </tr>\n",
       "    <tr>\n",
       "      <th>350667.0</th>\n",
       "      <td>1</td>\n",
       "      <td>1</td>\n",
       "    </tr>\n",
       "    <tr>\n",
       "      <th>382991.0</th>\n",
       "      <td>1</td>\n",
       "      <td>1</td>\n",
       "    </tr>\n",
       "    <tr>\n",
       "      <th>392333.0</th>\n",
       "      <td>1</td>\n",
       "      <td>1</td>\n",
       "    </tr>\n",
       "    <tr>\n",
       "      <th>399156.0</th>\n",
       "      <td>1</td>\n",
       "      <td>1</td>\n",
       "    </tr>\n",
       "    <tr>\n",
       "      <th>399648.0</th>\n",
       "      <td>1</td>\n",
       "      <td>1</td>\n",
       "    </tr>\n",
       "    <tr>\n",
       "      <th>411904.0</th>\n",
       "      <td>1</td>\n",
       "      <td>1</td>\n",
       "    </tr>\n",
       "    <tr>\n",
       "      <th>422934.0</th>\n",
       "      <td>1</td>\n",
       "      <td>1</td>\n",
       "    </tr>\n",
       "    <tr>\n",
       "      <th>423824.0</th>\n",
       "      <td>1</td>\n",
       "      <td>1</td>\n",
       "    </tr>\n",
       "    <tr>\n",
       "      <th>427630.0</th>\n",
       "      <td>1</td>\n",
       "      <td>1</td>\n",
       "    </tr>\n",
       "    <tr>\n",
       "      <th>435586.0</th>\n",
       "      <td>1</td>\n",
       "      <td>1</td>\n",
       "    </tr>\n",
       "    <tr>\n",
       "      <th>484011.0</th>\n",
       "      <td>1</td>\n",
       "      <td>1</td>\n",
       "    </tr>\n",
       "    <tr>\n",
       "      <th>548128.0</th>\n",
       "      <td>1</td>\n",
       "      <td>1</td>\n",
       "    </tr>\n",
       "    <tr>\n",
       "      <th>556031.0</th>\n",
       "      <td>1</td>\n",
       "      <td>1</td>\n",
       "    </tr>\n",
       "    <tr>\n",
       "      <th>565208.0</th>\n",
       "      <td>1</td>\n",
       "      <td>1</td>\n",
       "    </tr>\n",
       "    <tr>\n",
       "      <th>565751.0</th>\n",
       "      <td>1</td>\n",
       "      <td>1</td>\n",
       "    </tr>\n",
       "    <tr>\n",
       "      <th>582857.0</th>\n",
       "      <td>1</td>\n",
       "      <td>1</td>\n",
       "    </tr>\n",
       "    <tr>\n",
       "      <th>641793.0</th>\n",
       "      <td>1</td>\n",
       "      <td>1</td>\n",
       "    </tr>\n",
       "    <tr>\n",
       "      <th>642315.0</th>\n",
       "      <td>1</td>\n",
       "      <td>1</td>\n",
       "    </tr>\n",
       "    <tr>\n",
       "      <th>643367.0</th>\n",
       "      <td>1</td>\n",
       "      <td>1</td>\n",
       "    </tr>\n",
       "    <tr>\n",
       "      <th>670953.0</th>\n",
       "      <td>1</td>\n",
       "      <td>1</td>\n",
       "    </tr>\n",
       "    <tr>\n",
       "      <th>745972.0</th>\n",
       "      <td>1</td>\n",
       "      <td>1</td>\n",
       "    </tr>\n",
       "    <tr>\n",
       "      <th>767150.0</th>\n",
       "      <td>1</td>\n",
       "      <td>1</td>\n",
       "    </tr>\n",
       "    <tr>\n",
       "      <th>806202.0</th>\n",
       "      <td>1</td>\n",
       "      <td>1</td>\n",
       "    </tr>\n",
       "    <tr>\n",
       "      <th>850332.0</th>\n",
       "      <td>1</td>\n",
       "      <td>1</td>\n",
       "    </tr>\n",
       "    <tr>\n",
       "      <th>905364.0</th>\n",
       "      <td>1</td>\n",
       "      <td>1</td>\n",
       "    </tr>\n",
       "    <tr>\n",
       "      <th>1213648.0</th>\n",
       "      <td>1</td>\n",
       "      <td>1</td>\n",
       "    </tr>\n",
       "    <tr>\n",
       "      <th>1443811.0</th>\n",
       "      <td>1</td>\n",
       "      <td>1</td>\n",
       "    </tr>\n",
       "    <tr>\n",
       "      <th>2336398.0</th>\n",
       "      <td>1</td>\n",
       "      <td>1</td>\n",
       "    </tr>\n",
       "    <tr>\n",
       "      <th>2837126.0</th>\n",
       "      <td>1</td>\n",
       "      <td>1</td>\n",
       "    </tr>\n",
       "    <tr>\n",
       "      <th>31625968.0</th>\n",
       "      <td>1</td>\n",
       "      <td>1</td>\n",
       "    </tr>\n",
       "  </tbody>\n",
       "</table>\n",
       "<p>23508 rows × 2 columns</p>\n",
       "</div>"
      ],
      "text/plain": [
       "             memb_no  temp_memb_no\n",
       "timegap_sec                       \n",
       "0.0             6636          6636\n",
       "1.0             2162          2162\n",
       "2.0             2960          2960\n",
       "3.0             6093          6093\n",
       "4.0             4586          4586\n",
       "5.0             3591          3591\n",
       "6.0             3360          3360\n",
       "7.0             2798          2798\n",
       "8.0             3340          3340\n",
       "9.0             3661          3661\n",
       "10.0            3130          3130\n",
       "11.0            3067          3067\n",
       "12.0            3453          3453\n",
       "13.0            2836          2836\n",
       "14.0            2559          2559\n",
       "15.0            2341          2341\n",
       "16.0            2234          2234\n",
       "17.0            2151          2151\n",
       "18.0            2038          2038\n",
       "19.0            1988          1988\n",
       "20.0            1928          1928\n",
       "21.0            1876          1876\n",
       "22.0            1919          1919\n",
       "23.0            1861          1861\n",
       "24.0            1765          1765\n",
       "25.0            1757          1757\n",
       "26.0            1697          1697\n",
       "27.0            1622          1622\n",
       "28.0            1736          1736\n",
       "29.0            1646          1646\n",
       "...              ...           ...\n",
       "350667.0           1             1\n",
       "382991.0           1             1\n",
       "392333.0           1             1\n",
       "399156.0           1             1\n",
       "399648.0           1             1\n",
       "411904.0           1             1\n",
       "422934.0           1             1\n",
       "423824.0           1             1\n",
       "427630.0           1             1\n",
       "435586.0           1             1\n",
       "484011.0           1             1\n",
       "548128.0           1             1\n",
       "556031.0           1             1\n",
       "565208.0           1             1\n",
       "565751.0           1             1\n",
       "582857.0           1             1\n",
       "641793.0           1             1\n",
       "642315.0           1             1\n",
       "643367.0           1             1\n",
       "670953.0           1             1\n",
       "745972.0           1             1\n",
       "767150.0           1             1\n",
       "806202.0           1             1\n",
       "850332.0           1             1\n",
       "905364.0           1             1\n",
       "1213648.0          1             1\n",
       "1443811.0          1             1\n",
       "2336398.0          1             1\n",
       "2837126.0          1             1\n",
       "31625968.0         1             1\n",
       "\n",
       "[23508 rows x 2 columns]"
      ]
     },
     "execution_count": 13,
     "metadata": {},
     "output_type": "execute_result"
    }
   ],
   "source": [
    "usage.groupby(['timegap_sec'])['memb_no','temp_memb_no'].count()"
   ]
  },
  {
   "cell_type": "code",
   "execution_count": 14,
   "metadata": {
    "collapsed": false,
    "deletable": true,
    "editable": true
   },
   "outputs": [
    {
     "data": {
      "text/plain": [
       "1576.582432618192"
      ]
     },
     "execution_count": 14,
     "metadata": {},
     "output_type": "execute_result"
    }
   ],
   "source": [
    "usage.timegap_sec.mean()"
   ]
  },
  {
   "cell_type": "code",
   "execution_count": 15,
   "metadata": {
    "collapsed": false,
    "deletable": true,
    "editable": true
   },
   "outputs": [
    {
     "data": {
      "text/html": [
       "<div>\n",
       "<style scoped>\n",
       "    .dataframe tbody tr th:only-of-type {\n",
       "        vertical-align: middle;\n",
       "    }\n",
       "\n",
       "    .dataframe tbody tr th {\n",
       "        vertical-align: top;\n",
       "    }\n",
       "\n",
       "    .dataframe thead th {\n",
       "        text-align: right;\n",
       "    }\n",
       "</style>\n",
       "<table border=\"1\" class=\"dataframe\">\n",
       "  <thead>\n",
       "    <tr style=\"text-align: right;\">\n",
       "      <th></th>\n",
       "      <th>leas_no</th>\n",
       "      <th>leas_stat</th>\n",
       "      <th>leas_station</th>\n",
       "      <th>leas_def_no</th>\n",
       "      <th>rtn_station</th>\n",
       "      <th>rtn_def_no</th>\n",
       "      <th>trnv_qty</th>\n",
       "      <th>memb_no</th>\n",
       "      <th>temp_memb_no</th>\n",
       "      <th>rtn_process</th>\n",
       "      <th>rtn_leas_timegap</th>\n",
       "      <th>timegap_sec</th>\n",
       "    </tr>\n",
       "  </thead>\n",
       "  <tbody>\n",
       "    <tr>\n",
       "      <th>count</th>\n",
       "      <td>3.142688e+06</td>\n",
       "      <td>3142688.0</td>\n",
       "      <td>3.142688e+06</td>\n",
       "      <td>3.142688e+06</td>\n",
       "      <td>3.142688e+06</td>\n",
       "      <td>3.142688e+06</td>\n",
       "      <td>2.747029e+06</td>\n",
       "      <td>3.142688e+06</td>\n",
       "      <td>3.142685e+06</td>\n",
       "      <td>410039.000000</td>\n",
       "      <td>3142688</td>\n",
       "      <td>3.142688e+06</td>\n",
       "    </tr>\n",
       "    <tr>\n",
       "      <th>mean</th>\n",
       "      <td>1.882270e+07</td>\n",
       "      <td>2.0</td>\n",
       "      <td>2.487533e+02</td>\n",
       "      <td>1.335679e+01</td>\n",
       "      <td>2.175205e+02</td>\n",
       "      <td>1.119356e+01</td>\n",
       "      <td>4.895855e+03</td>\n",
       "      <td>1.315026e+05</td>\n",
       "      <td>9.174356e+05</td>\n",
       "      <td>1.121984</td>\n",
       "      <td>0 days 00:26:16.582432</td>\n",
       "      <td>1.576582e+03</td>\n",
       "    </tr>\n",
       "    <tr>\n",
       "      <th>std</th>\n",
       "      <td>1.674327e+06</td>\n",
       "      <td>0.0</td>\n",
       "      <td>6.367190e+01</td>\n",
       "      <td>7.404129e+00</td>\n",
       "      <td>1.017983e+02</td>\n",
       "      <td>8.703353e+00</td>\n",
       "      <td>1.264047e+04</td>\n",
       "      <td>9.720860e+04</td>\n",
       "      <td>1.587276e+06</td>\n",
       "      <td>0.590959</td>\n",
       "      <td>0 days 05:04:32.115662</td>\n",
       "      <td>1.827212e+04</td>\n",
       "    </tr>\n",
       "    <tr>\n",
       "      <th>min</th>\n",
       "      <td>1.594554e+07</td>\n",
       "      <td>2.0</td>\n",
       "      <td>1.010000e+02</td>\n",
       "      <td>1.000000e+00</td>\n",
       "      <td>0.000000e+00</td>\n",
       "      <td>0.000000e+00</td>\n",
       "      <td>0.000000e+00</td>\n",
       "      <td>0.000000e+00</td>\n",
       "      <td>0.000000e+00</td>\n",
       "      <td>1.000000</td>\n",
       "      <td>0 days 00:00:00</td>\n",
       "      <td>0.000000e+00</td>\n",
       "    </tr>\n",
       "    <tr>\n",
       "      <th>25%</th>\n",
       "      <td>1.735176e+07</td>\n",
       "      <td>2.0</td>\n",
       "      <td>2.130000e+02</td>\n",
       "      <td>8.000000e+00</td>\n",
       "      <td>2.030000e+02</td>\n",
       "      <td>3.000000e+00</td>\n",
       "      <td>0.000000e+00</td>\n",
       "      <td>0.000000e+00</td>\n",
       "      <td>0.000000e+00</td>\n",
       "      <td>1.000000</td>\n",
       "      <td>0 days 00:07:05</td>\n",
       "      <td>4.250000e+02</td>\n",
       "    </tr>\n",
       "    <tr>\n",
       "      <th>50%</th>\n",
       "      <td>1.883170e+07</td>\n",
       "      <td>2.0</td>\n",
       "      <td>2.460000e+02</td>\n",
       "      <td>1.300000e+01</td>\n",
       "      <td>2.320000e+02</td>\n",
       "      <td>1.100000e+01</td>\n",
       "      <td>0.000000e+00</td>\n",
       "      <td>1.849010e+05</td>\n",
       "      <td>0.000000e+00</td>\n",
       "      <td>1.000000</td>\n",
       "      <td>0 days 00:14:12</td>\n",
       "      <td>8.520000e+02</td>\n",
       "    </tr>\n",
       "    <tr>\n",
       "      <th>75%</th>\n",
       "      <td>2.029006e+07</td>\n",
       "      <td>2.0</td>\n",
       "      <td>3.090000e+02</td>\n",
       "      <td>1.800000e+01</td>\n",
       "      <td>3.070000e+02</td>\n",
       "      <td>1.700000e+01</td>\n",
       "      <td>0.000000e+00</td>\n",
       "      <td>2.065770e+05</td>\n",
       "      <td>3.191189e+06</td>\n",
       "      <td>1.000000</td>\n",
       "      <td>0 days 00:35:08</td>\n",
       "      <td>2.108000e+03</td>\n",
       "    </tr>\n",
       "    <tr>\n",
       "      <th>max</th>\n",
       "      <td>2.171861e+07</td>\n",
       "      <td>2.0</td>\n",
       "      <td>9.980000e+02</td>\n",
       "      <td>4.000000e+01</td>\n",
       "      <td>9.990000e+02</td>\n",
       "      <td>9.900000e+01</td>\n",
       "      <td>6.553500e+04</td>\n",
       "      <td>4.099376e+06</td>\n",
       "      <td>4.124667e+06</td>\n",
       "      <td>5.000000</td>\n",
       "      <td>366 days 00:59:28</td>\n",
       "      <td>3.162597e+07</td>\n",
       "    </tr>\n",
       "  </tbody>\n",
       "</table>\n",
       "</div>"
      ],
      "text/plain": [
       "            leas_no  leas_stat  leas_station   leas_def_no   rtn_station  \\\n",
       "count  3.142688e+06  3142688.0  3.142688e+06  3.142688e+06  3.142688e+06   \n",
       "mean   1.882270e+07        2.0  2.487533e+02  1.335679e+01  2.175205e+02   \n",
       "std    1.674327e+06        0.0  6.367190e+01  7.404129e+00  1.017983e+02   \n",
       "min    1.594554e+07        2.0  1.010000e+02  1.000000e+00  0.000000e+00   \n",
       "25%    1.735176e+07        2.0  2.130000e+02  8.000000e+00  2.030000e+02   \n",
       "50%    1.883170e+07        2.0  2.460000e+02  1.300000e+01  2.320000e+02   \n",
       "75%    2.029006e+07        2.0  3.090000e+02  1.800000e+01  3.070000e+02   \n",
       "max    2.171861e+07        2.0  9.980000e+02  4.000000e+01  9.990000e+02   \n",
       "\n",
       "         rtn_def_no      trnv_qty       memb_no  temp_memb_no    rtn_process  \\\n",
       "count  3.142688e+06  2.747029e+06  3.142688e+06  3.142685e+06  410039.000000   \n",
       "mean   1.119356e+01  4.895855e+03  1.315026e+05  9.174356e+05       1.121984   \n",
       "std    8.703353e+00  1.264047e+04  9.720860e+04  1.587276e+06       0.590959   \n",
       "min    0.000000e+00  0.000000e+00  0.000000e+00  0.000000e+00       1.000000   \n",
       "25%    3.000000e+00  0.000000e+00  0.000000e+00  0.000000e+00       1.000000   \n",
       "50%    1.100000e+01  0.000000e+00  1.849010e+05  0.000000e+00       1.000000   \n",
       "75%    1.700000e+01  0.000000e+00  2.065770e+05  3.191189e+06       1.000000   \n",
       "max    9.900000e+01  6.553500e+04  4.099376e+06  4.124667e+06       5.000000   \n",
       "\n",
       "             rtn_leas_timegap   timegap_sec  \n",
       "count                 3142688  3.142688e+06  \n",
       "mean   0 days 00:26:16.582432  1.576582e+03  \n",
       "std    0 days 05:04:32.115662  1.827212e+04  \n",
       "min           0 days 00:00:00  0.000000e+00  \n",
       "25%           0 days 00:07:05  4.250000e+02  \n",
       "50%           0 days 00:14:12  8.520000e+02  \n",
       "75%           0 days 00:35:08  2.108000e+03  \n",
       "max         366 days 00:59:28  3.162597e+07  "
      ]
     },
     "execution_count": 15,
     "metadata": {},
     "output_type": "execute_result"
    }
   ],
   "source": [
    "usage.describe()"
   ]
  },
  {
   "cell_type": "code",
   "execution_count": 16,
   "metadata": {
    "collapsed": true,
    "deletable": true,
    "editable": true
   },
   "outputs": [],
   "source": [
    "u_toy=usage[['leas_station','rtn_station','timegap_sec']]"
   ]
  },
  {
   "cell_type": "code",
   "execution_count": 17,
   "metadata": {
    "collapsed": false,
    "deletable": true,
    "editable": true
   },
   "outputs": [
    {
     "name": "stderr",
     "output_type": "stream",
     "text": [
      "/Users/jinseulpark/anaconda/lib/python3.5/site-packages/pandas/core/indexing.py:362: SettingWithCopyWarning: \n",
      "A value is trying to be set on a copy of a slice from a DataFrame.\n",
      "Try using .loc[row_indexer,col_indexer] = value instead\n",
      "\n",
      "See the caveats in the documentation: http://pandas.pydata.org/pandas-docs/stable/indexing.html#indexing-view-versus-copy\n",
      "  self.obj[key] = _infer_fill_value(value)\n",
      "/Users/jinseulpark/anaconda/lib/python3.5/site-packages/pandas/core/indexing.py:543: SettingWithCopyWarning: \n",
      "A value is trying to be set on a copy of a slice from a DataFrame.\n",
      "Try using .loc[row_indexer,col_indexer] = value instead\n",
      "\n",
      "See the caveats in the documentation: http://pandas.pydata.org/pandas-docs/stable/indexing.html#indexing-view-versus-copy\n",
      "  self.obj[item] = s\n"
     ]
    }
   ],
   "source": [
    "# 한번 타고 다시 원래 공간으로 돌아온 사람 : true, 다른 곳으로 이동한 사람 false\n",
    "u_toy.loc[ u_toy.leas_station == u_toy.rtn_station,'same_station'] = True\n",
    "u_toy.loc[ u_toy.leas_station != u_toy.rtn_station,'same_station'] = False"
   ]
  },
  {
   "cell_type": "code",
   "execution_count": 18,
   "metadata": {
    "collapsed": false,
    "deletable": true,
    "editable": true
   },
   "outputs": [
    {
     "data": {
      "text/plain": [
       "same_station\n",
       "False    0.8695\n",
       "True     0.1305\n",
       "Name: timegap_sec, dtype: float64"
      ]
     },
     "execution_count": 18,
     "metadata": {},
     "output_type": "execute_result"
    }
   ],
   "source": [
    "total = u_toy.groupby('same_station')['timegap_sec'].count().sum()\n",
    "u_toy.groupby('same_station')['timegap_sec'].count()/total\n",
    "# 유저의 87% 가 이동하여 다른 위치에 반납\n",
    "# 유저의 13% 만 원래 위치에 반납\n",
    "## 신규 정류소는 어디에 놓아지면 좋을까? 순환이 잘 되고 많은 사람들이 필요로 하는 공간"
   ]
  },
  {
   "cell_type": "code",
   "execution_count": null,
   "metadata": {
    "collapsed": true,
    "deletable": true,
    "editable": true
   },
   "outputs": [],
   "source": []
  },
  {
   "cell_type": "code",
   "execution_count": null,
   "metadata": {
    "collapsed": true,
    "deletable": true,
    "editable": true
   },
   "outputs": [],
   "source": []
  },
  {
   "cell_type": "code",
   "execution_count": null,
   "metadata": {
    "collapsed": false,
    "deletable": true,
    "editable": true
   },
   "outputs": [],
   "source": [
    "u_toy.head()"
   ]
  },
  {
   "cell_type": "code",
   "execution_count": null,
   "metadata": {
    "collapsed": false,
    "deletable": true,
    "editable": true
   },
   "outputs": [],
   "source": [
    "u_toy.groupby('same_station')['timegap_sec'].mean()/60\n",
    "# 한번 타고 다시 돌아온 "
   ]
  },
  {
   "cell_type": "code",
   "execution_count": null,
   "metadata": {
    "collapsed": true,
    "deletable": true,
    "editable": true
   },
   "outputs": [],
   "source": [
    "# 목적 ? 공공 자전거 운영 이력 데이터를 활용하여 자전거 최적 위치를 선정"
   ]
  },
  {
   "cell_type": "markdown",
   "metadata": {
    "deletable": true,
    "editable": true
   },
   "source": [
    "### 데이터 확인"
   ]
  },
  {
   "cell_type": "code",
   "execution_count": 19,
   "metadata": {
    "collapsed": true,
    "deletable": true,
    "editable": true
   },
   "outputs": [],
   "source": [
    "#1. 사람들이 언제 어디서 가장 많이 타고 내리는가? 한번 탈때는 몇 분 정도 타는가? \n",
    "# 짧게 타는 사람과 길게 타는 사람 간 차이가 큰가?"
   ]
  },
  {
   "cell_type": "code",
   "execution_count": 20,
   "metadata": {
    "collapsed": false,
    "deletable": true,
    "editable": true
   },
   "outputs": [
    {
     "name": "stdout",
     "output_type": "stream",
     "text": [
      "유저들은 39127 사용했고, 총 사용 횟수는 3142688이다. 1명당 평균 80.320188번 사용했다\n"
     ]
    }
   ],
   "source": [
    "unique_user = usage.memb_no.nunique()\n",
    "all_user = usage.memb_no.shape[0]\n",
    "\n",
    "print('유저들은 %d 사용했고, 총 사용 횟수는 %d이다. 1명당 평균 %f번 사용했다'%(unique_user, all_user,  all_user/ unique_user ))"
   ]
  },
  {
   "cell_type": "code",
   "execution_count": 23,
   "metadata": {
    "collapsed": false,
    "deletable": true,
    "editable": true
   },
   "outputs": [],
   "source": [
    "usage['leas_weekday']=usage['leas_date_dt'].apply(lambda x: x.weekday()) # 0이 월요일\n",
    "usage['rtn_weekday']=usage['rtn_date_dt'].apply(lambda x: x.weekday()) # 0이 월요일\n",
    "\n",
    "usage['rtn_year']=usage['rtn_date_dt'].apply(lambda x: x.year) # 0이 월요일\n",
    "usage['rtn_month']=usage['rtn_date_dt'].apply(lambda x: x.month) # 0이 월요일\n",
    "usage['rtn_day']=usage['rtn_date_dt'].apply(lambda x: x.day) # 0이 월요일\n",
    "usage['rtn_hour']=usage['rtn_date_dt'].apply(lambda x: x.hour) # 0이 월요일\n",
    "\n",
    "\n",
    "usage['leas_year']=usage['leas_date_dt'].apply(lambda x: x.year) # 0이 월요일\n",
    "usage['leas_month']=usage['leas_date_dt'].apply(lambda x: x.month) # 0이 월요일\n",
    "usage['leas_day']=usage['leas_date_dt'].apply(lambda x: x.day) # 0이 월요일\n",
    "usage['leas_hour']=usage['leas_date_dt'].apply(lambda x: x.hour) # 0이 월요일\n"
   ]
  },
  {
   "cell_type": "code",
   "execution_count": 25,
   "metadata": {
    "collapsed": true
   },
   "outputs": [],
   "source": [
    "import matplotlib.pyplot as plt\n",
    "%matplotlib inline"
   ]
  },
  {
   "cell_type": "code",
   "execution_count": 38,
   "metadata": {
    "collapsed": false,
    "deletable": true,
    "editable": true
   },
   "outputs": [
    {
     "data": {
      "text/plain": [
       "<BarContainer object of 7 artists>"
      ]
     },
     "execution_count": 38,
     "metadata": {},
     "output_type": "execute_result"
    },
    {
     "data": {
      "image/png": "[encoded data removed]",
      "text/plain": [
       "<Figure size 432x288 with 1 Axes>"
      ]
     },
     "metadata": {},
     "output_type": "display_data"
    }
   ],
   "source": [
    "sum_1=usage.groupby(['leas_weekday'])['memb_no'].count()\n",
    "plt.bar(sum_1.index.values, sum_1.values)\n",
    "# 4: 금요일이 가장 높음"
   ]
  },
  {
   "cell_type": "code",
   "execution_count": 64,
   "metadata": {
    "collapsed": true
   },
   "outputs": [],
   "source": [
    "def get_bar_count(col1, col2):\n",
    "    sum_1=usage.groupby([col1])[col2].count()\n",
    "    print(sum_1)\n",
    "    plt.bar(sum_1.index.values, sum_1.values)\n",
    "    plt.title('{}_{}'.format(col1, col2))\n",
    "    plt.show()\n",
    "    \n",
    "def get_bar_sum(col1, col2):\n",
    "    sum_1=usage.groupby([col1])[col2].sum()\n",
    "    print(sum_1)\n",
    "    plt.bar(sum_1.index.values, sum_1.values)\n",
    "    plt.title('{}_{}'.format(col1, col2))\n",
    "    plt.show()\n",
    "    \n",
    "def get_bar_mean(col1, col2):\n",
    "    sum_1=usage.groupby([col1])[col2].mean()\n",
    "    print(sum_1)\n",
    "    plt.bar(sum_1.index.values, sum_1.values)\n",
    "    plt.title('{}_{}'.format(col1, col2))\n",
    "    plt.show()"
   ]
  },
  {
   "cell_type": "code",
   "execution_count": 60,
   "metadata": {
    "collapsed": false
   },
   "outputs": [
    {
     "name": "stdout",
     "output_type": "stream",
     "text": [
      "leas_weekday\n",
      "0    440392\n",
      "1    450238\n",
      "2    452128\n",
      "3    450829\n",
      "4    469378\n",
      "5    458982\n",
      "6    420741\n",
      "Name: memb_no, dtype: int64\n"
     ]
    },
    {
     "data": {
      "image/png": "[encoded data removed]",
      "text/plain": [
       "<Figure size 432x288 with 1 Axes>"
      ]
     },
     "metadata": {},
     "output_type": "display_data"
    }
   ],
   "source": [
    "get_bar_count('leas_weekday', 'memb_no')"
   ]
  },
  {
   "cell_type": "code",
   "execution_count": 61,
   "metadata": {
    "collapsed": false
   },
   "outputs": [
    {
     "name": "stdout",
     "output_type": "stream",
     "text": [
      "leas_month\n",
      "1     101967\n",
      "2      96155\n",
      "3     187734\n",
      "4     283239\n",
      "5     366165\n",
      "6     385224\n",
      "7     324360\n",
      "8     323420\n",
      "9     372814\n",
      "10    354392\n",
      "11    224443\n",
      "12    122775\n",
      "Name: memb_no, dtype: int64\n"
     ]
    },
    {
     "data": {
      "image/png": "[encoded data removed]",
      "text/plain": [
       "<Figure size 432x288 with 1 Axes>"
      ]
     },
     "metadata": {},
     "output_type": "display_data"
    }
   ],
   "source": [
    "get_bar_count('leas_month', 'memb_no')"
   ]
  },
  {
   "cell_type": "code",
   "execution_count": 62,
   "metadata": {
    "collapsed": false
   },
   "outputs": [
    {
     "name": "stdout",
     "output_type": "stream",
     "text": [
      "leas_day\n",
      "1     104337\n",
      "2     101584\n",
      "3     104727\n",
      "4     107365\n",
      "5      99049\n",
      "6      94315\n",
      "7      99541\n",
      "8     105383\n",
      "9     101282\n",
      "10     90906\n",
      "11    102833\n",
      "12    101841\n",
      "13    107813\n",
      "14    101431\n",
      "15     97774\n",
      "16    106480\n",
      "17    106321\n",
      "18    106085\n",
      "19    108515\n",
      "20    104913\n",
      "21    108387\n",
      "22    105625\n",
      "23    101135\n",
      "24    101238\n",
      "25    105943\n",
      "26    101351\n",
      "27    105779\n",
      "28    100072\n",
      "29    101731\n",
      "30    100424\n",
      "31     58508\n",
      "Name: memb_no, dtype: int64\n"
     ]
    },
    {
     "data": {
      "image/png": "[encoded data removed]",
      "text/plain": [
       "<Figure size 432x288 with 1 Axes>"
      ]
     },
     "metadata": {},
     "output_type": "display_data"
    }
   ],
   "source": [
    "get_bar_count('leas_day', 'memb_no')"
   ]
  },
  {
   "cell_type": "code",
   "execution_count": 65,
   "metadata": {
    "collapsed": false
   },
   "outputs": [
    {
     "name": "stdout",
     "output_type": "stream",
     "text": [
      "leas_weekday\n",
      "0    1493.746646\n",
      "1    1472.906418\n",
      "2    1544.476460\n",
      "3    1442.840210\n",
      "4    1498.008083\n",
      "5    1759.554120\n",
      "6    1840.094524\n",
      "Name: timegap_sec, dtype: float64\n"
     ]
    },
    {
     "data": {
      "image/png": "[encoded data removed]",
      "text/plain": [
       "<Figure size 432x288 with 1 Axes>"
      ]
     },
     "metadata": {},
     "output_type": "display_data"
    }
   ],
   "source": [
    "get_bar_mean('leas_weekday', 'timegap_sec')\n",
    "# 이용자는 금요일에 가장 많지만, 평균 사용 시간은 주말이 우세하다"
   ]
  },
  {
   "cell_type": "code",
   "execution_count": 66,
   "metadata": {
    "collapsed": false
   },
   "outputs": [
    {
     "name": "stdout",
     "output_type": "stream",
     "text": [
      "leas_month\n",
      "1     1443.454922\n",
      "2     1567.787791\n",
      "3     1593.816400\n",
      "4     1750.860747\n",
      "5     1685.882479\n",
      "6     1593.690829\n",
      "7     1563.024445\n",
      "8     1512.635721\n",
      "9     1597.741367\n",
      "10    1552.184398\n",
      "11    1393.890556\n",
      "12    1430.391244\n",
      "Name: timegap_sec, dtype: float64\n"
     ]
    },
    {
     "data": {
      "image/png": "[encoded data removed]",
      "text/plain": [
       "<Figure size 432x288 with 1 Axes>"
      ]
     },
     "metadata": {},
     "output_type": "display_data"
    }
   ],
   "source": [
    "get_bar_mean('leas_month', 'timegap_sec')\n",
    "# 이용자는 금요일에 가장 많지만, 평균 사용 시간은 주말이 우세하다"
   ]
  },
  {
   "cell_type": "code",
   "execution_count": 67,
   "metadata": {
    "collapsed": false
   },
   "outputs": [
    {
     "name": "stdout",
     "output_type": "stream",
     "text": [
      "leas_day\n",
      "1     1606.075620\n",
      "2     1601.924289\n",
      "3     1653.841244\n",
      "4     1580.422577\n",
      "5     1612.777868\n",
      "6     1570.666797\n",
      "7     1619.162737\n",
      "8     1551.640805\n",
      "9     1625.572303\n",
      "10    1550.512914\n",
      "11    1525.534819\n",
      "12    1514.994884\n",
      "13    1571.747776\n",
      "14    1531.804882\n",
      "15    1571.650684\n",
      "16    1579.666088\n",
      "17    1556.585726\n",
      "18    1825.195636\n",
      "19    1546.826190\n",
      "20    1554.936938\n",
      "21    1584.155351\n",
      "22    1536.308554\n",
      "23    1592.265823\n",
      "24    1570.213724\n",
      "25    1554.242876\n",
      "26    1576.234768\n",
      "27    1524.442470\n",
      "28    1518.559827\n",
      "29    1565.855020\n",
      "30    1547.071596\n",
      "31    1523.196794\n",
      "Name: timegap_sec, dtype: float64\n"
     ]
    },
    {
     "data": {
      "image/png": "[encoded data removed]",
      "text/plain": [
       "<Figure size 432x288 with 1 Axes>"
      ]
     },
     "metadata": {},
     "output_type": "display_data"
    }
   ],
   "source": [
    "get_bar_mean('leas_day', 'timegap_sec')\n",
    "# 이용자는 금요일에 가장 많지만, 평균 사용 시간은 주말이 우세하다"
   ]
  },
  {
   "cell_type": "code",
   "execution_count": null,
   "metadata": {
    "collapsed": true,
    "deletable": true,
    "editable": true
   },
   "outputs": [],
   "source": []
  }
 ],
 "metadata": {
  "anaconda-cloud": {},
  "kernelspec": {
   "display_name": "Python [conda env:anaconda]",
   "language": "python",
   "name": "conda-env-anaconda-py"
  },
  "language_info": {
   "codemirror_mode": {
    "name": "ipython",
    "version": 3
   },
   "file_extension": ".py",
   "mimetype": "text/x-python",
   "name": "python",
   "nbconvert_exporter": "python",
   "pygments_lexer": "ipython3",
   "version": "3.5.6"
  }
 },
 "nbformat": 4,
 "nbformat_minor": 1
}
