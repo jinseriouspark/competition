{
 "cells": [
  {
   "cell_type": "markdown",
   "metadata": {
    "deletable": true,
    "editable": true
   },
   "source": [
    "출처 : https://compas.lh.or.kr/subj/past/data?subjNo=SBJ_2007_001\n",
    "        \n",
    "## 고양시 공공자전거 스테이션 최적지 선정 데이터셋\n",
    "\n",
    "- 2017~ 19년 고양시 공공자전거 운영 이력 정보를 가지고, 최대 300대 개소를 어디에 위치할 지 조정 필요\n",
    "- 한 스테이션에는 30개의 자전거 수용 가능"
   ]
  },
  {
   "cell_type": "code",
   "execution_count": 1,
   "metadata": {
    "collapsed": true,
    "deletable": true,
    "editable": true
   },
   "outputs": [],
   "source": [
    "import pandas as pd\n",
    "import os\n",
    "import matplotlib.pyplot as plt\n",
    "%matplotlib inline"
   ]
  },
  {
   "cell_type": "code",
   "execution_count": 2,
   "metadata": {
    "collapsed": false,
    "deletable": true,
    "editable": true
   },
   "outputs": [
    {
     "name": "stderr",
     "output_type": "stream",
     "text": [
      "/Users/jinseulpark/anaconda/lib/python3.5/site-packages/IPython/core/interactiveshell.py:2728: DtypeWarning: Columns (9) have mixed types. Specify dtype option on import or set low_memory=False.\n",
      "  interactivity=interactivity, compiler=compiler, result=result)\n"
     ]
    }
   ],
   "source": [
    "usage = pd.read_csv('./SBJ_2007_001/01.운영이력.csv')"
   ]
  },
  {
   "cell_type": "markdown",
   "metadata": {
    "deletable": true,
    "editable": true
   },
   "source": [
    "- LEAS_NO    대여 번호\n",
    "- LEAS_DATE    대여 시간\n",
    "- LEAS_STATION    대여 스테이션 번호\n",
    "- LEAS_DEF_NO    대여 거치대 번호\n",
    "- RTN_DATE    반납 시간\n",
    "- RTN_STATION    반납 스테이션 번호\n",
    "- RTN_DEF_NO    반납 거치대 번호\n",
    "- RTN_PROCESS    관제반납구분값 (01:관제반납/02:관리자반납/03:관리자반출/04:타 사용자 반납/05:다른 사용자 반출)\n",
    "- TRNV_QTY    추정 이동 거리(m)\n",
    "- MEMB_DIV    회원 구분(비회원은 99이며 나머지는 정회원)\n",
    "- MEMB_NO    회원 번호\n",
    "- TEMP_MEMB_NO    비회원 번호\n",
    "- BIKE_TAG    자전거 번호"
   ]
  },
  {
   "cell_type": "code",
   "execution_count": 3,
   "metadata": {
    "collapsed": false,
    "deletable": true,
    "editable": true
   },
   "outputs": [],
   "source": [
    "usage.columns = usage.columns.str.lower()\n",
    "# leas_no "
   ]
  },
  {
   "cell_type": "code",
   "execution_count": 4,
   "metadata": {
    "collapsed": false,
    "deletable": true,
    "editable": true
   },
   "outputs": [],
   "source": [
    "col_kr={'LEAS_NO':'대여 번호'\n",
    ",'LEAS_DATE':'대여 시간'\n",
    ",'LEAS_STATION':'대여 스테이션 번호'\n",
    ",'LEAS_DEF_NO':'대여 거치대 번호'\n",
    ",'RTN_DATE':'반납 시간'\n",
    ",'RTN_STATION':'반납 스테이션 번호'\n",
    ",'RTN_DEF_NO':'반납 거치대 번호'\n",
    ",'RTN_PROCESS':'관제반납구분값 (01:관제반납/02:관리자반납/03:관리자반출/04:타 사용자 반납/05:다른 사용자 반출)'\n",
    ",'TRNV_QTY':'추정 이동 거리(m)'\n",
    ",'MEMB_DIV':'회원 구분(비회원은 99이며 나머지는 정회원)'\n",
    ",'MEMB_NO':'회원 번호'\n",
    ",'TEMP_MEMB_NO':'비회원 번호'\n",
    ",'BIKE_TAG':'자전거 번호'}\n"
   ]
  },
  {
   "cell_type": "code",
   "execution_count": 5,
   "metadata": {
    "collapsed": false,
    "deletable": true,
    "editable": true
   },
   "outputs": [
    {
     "data": {
      "text/plain": [
       "(3142688, 14)"
      ]
     },
     "execution_count": 5,
     "metadata": {},
     "output_type": "execute_result"
    }
   ],
   "source": [
    "usage.shape"
   ]
  },
  {
   "cell_type": "code",
   "execution_count": 6,
   "metadata": {
    "collapsed": false,
    "deletable": true,
    "editable": true
   },
   "outputs": [
    {
     "data": {
      "text/html": [
       "<div>\n",
       "<style scoped>\n",
       "    .dataframe tbody tr th:only-of-type {\n",
       "        vertical-align: middle;\n",
       "    }\n",
       "\n",
       "    .dataframe tbody tr th {\n",
       "        vertical-align: top;\n",
       "    }\n",
       "\n",
       "    .dataframe thead th {\n",
       "        text-align: right;\n",
       "    }\n",
       "</style>\n",
       "<table border=\"1\" class=\"dataframe\">\n",
       "  <thead>\n",
       "    <tr style=\"text-align: right;\">\n",
       "      <th></th>\n",
       "      <th>leas_no</th>\n",
       "      <th>leas_stat</th>\n",
       "      <th>leas_station</th>\n",
       "      <th>leas_def_no</th>\n",
       "      <th>rtn_station</th>\n",
       "      <th>rtn_def_no</th>\n",
       "      <th>trnv_qty</th>\n",
       "      <th>memb_no</th>\n",
       "      <th>temp_memb_no</th>\n",
       "      <th>rtn_process</th>\n",
       "    </tr>\n",
       "  </thead>\n",
       "  <tbody>\n",
       "    <tr>\n",
       "      <th>count</th>\n",
       "      <td>3.142688e+06</td>\n",
       "      <td>3142688.0</td>\n",
       "      <td>3.142688e+06</td>\n",
       "      <td>3.142688e+06</td>\n",
       "      <td>3.142688e+06</td>\n",
       "      <td>3.142688e+06</td>\n",
       "      <td>2.747029e+06</td>\n",
       "      <td>3.142688e+06</td>\n",
       "      <td>3.142685e+06</td>\n",
       "      <td>410039.000000</td>\n",
       "    </tr>\n",
       "    <tr>\n",
       "      <th>mean</th>\n",
       "      <td>1.882270e+07</td>\n",
       "      <td>2.0</td>\n",
       "      <td>2.487533e+02</td>\n",
       "      <td>1.335679e+01</td>\n",
       "      <td>2.175205e+02</td>\n",
       "      <td>1.119356e+01</td>\n",
       "      <td>4.895855e+03</td>\n",
       "      <td>1.315026e+05</td>\n",
       "      <td>9.174356e+05</td>\n",
       "      <td>1.121984</td>\n",
       "    </tr>\n",
       "    <tr>\n",
       "      <th>std</th>\n",
       "      <td>1.674327e+06</td>\n",
       "      <td>0.0</td>\n",
       "      <td>6.367190e+01</td>\n",
       "      <td>7.404129e+00</td>\n",
       "      <td>1.017983e+02</td>\n",
       "      <td>8.703353e+00</td>\n",
       "      <td>1.264047e+04</td>\n",
       "      <td>9.720860e+04</td>\n",
       "      <td>1.587276e+06</td>\n",
       "      <td>0.590959</td>\n",
       "    </tr>\n",
       "    <tr>\n",
       "      <th>min</th>\n",
       "      <td>1.594554e+07</td>\n",
       "      <td>2.0</td>\n",
       "      <td>1.010000e+02</td>\n",
       "      <td>1.000000e+00</td>\n",
       "      <td>0.000000e+00</td>\n",
       "      <td>0.000000e+00</td>\n",
       "      <td>0.000000e+00</td>\n",
       "      <td>0.000000e+00</td>\n",
       "      <td>0.000000e+00</td>\n",
       "      <td>1.000000</td>\n",
       "    </tr>\n",
       "    <tr>\n",
       "      <th>25%</th>\n",
       "      <td>1.735176e+07</td>\n",
       "      <td>2.0</td>\n",
       "      <td>2.130000e+02</td>\n",
       "      <td>8.000000e+00</td>\n",
       "      <td>2.030000e+02</td>\n",
       "      <td>3.000000e+00</td>\n",
       "      <td>0.000000e+00</td>\n",
       "      <td>0.000000e+00</td>\n",
       "      <td>0.000000e+00</td>\n",
       "      <td>1.000000</td>\n",
       "    </tr>\n",
       "    <tr>\n",
       "      <th>50%</th>\n",
       "      <td>1.883170e+07</td>\n",
       "      <td>2.0</td>\n",
       "      <td>2.460000e+02</td>\n",
       "      <td>1.300000e+01</td>\n",
       "      <td>2.320000e+02</td>\n",
       "      <td>1.100000e+01</td>\n",
       "      <td>0.000000e+00</td>\n",
       "      <td>1.849010e+05</td>\n",
       "      <td>0.000000e+00</td>\n",
       "      <td>1.000000</td>\n",
       "    </tr>\n",
       "    <tr>\n",
       "      <th>75%</th>\n",
       "      <td>2.029006e+07</td>\n",
       "      <td>2.0</td>\n",
       "      <td>3.090000e+02</td>\n",
       "      <td>1.800000e+01</td>\n",
       "      <td>3.070000e+02</td>\n",
       "      <td>1.700000e+01</td>\n",
       "      <td>0.000000e+00</td>\n",
       "      <td>2.065770e+05</td>\n",
       "      <td>3.191189e+06</td>\n",
       "      <td>1.000000</td>\n",
       "    </tr>\n",
       "    <tr>\n",
       "      <th>max</th>\n",
       "      <td>2.171861e+07</td>\n",
       "      <td>2.0</td>\n",
       "      <td>9.980000e+02</td>\n",
       "      <td>4.000000e+01</td>\n",
       "      <td>9.990000e+02</td>\n",
       "      <td>9.900000e+01</td>\n",
       "      <td>6.553500e+04</td>\n",
       "      <td>4.099376e+06</td>\n",
       "      <td>4.124667e+06</td>\n",
       "      <td>5.000000</td>\n",
       "    </tr>\n",
       "  </tbody>\n",
       "</table>\n",
       "</div>"
      ],
      "text/plain": [
       "            leas_no  leas_stat  leas_station   leas_def_no   rtn_station  \\\n",
       "count  3.142688e+06  3142688.0  3.142688e+06  3.142688e+06  3.142688e+06   \n",
       "mean   1.882270e+07        2.0  2.487533e+02  1.335679e+01  2.175205e+02   \n",
       "std    1.674327e+06        0.0  6.367190e+01  7.404129e+00  1.017983e+02   \n",
       "min    1.594554e+07        2.0  1.010000e+02  1.000000e+00  0.000000e+00   \n",
       "25%    1.735176e+07        2.0  2.130000e+02  8.000000e+00  2.030000e+02   \n",
       "50%    1.883170e+07        2.0  2.460000e+02  1.300000e+01  2.320000e+02   \n",
       "75%    2.029006e+07        2.0  3.090000e+02  1.800000e+01  3.070000e+02   \n",
       "max    2.171861e+07        2.0  9.980000e+02  4.000000e+01  9.990000e+02   \n",
       "\n",
       "         rtn_def_no      trnv_qty       memb_no  temp_memb_no    rtn_process  \n",
       "count  3.142688e+06  2.747029e+06  3.142688e+06  3.142685e+06  410039.000000  \n",
       "mean   1.119356e+01  4.895855e+03  1.315026e+05  9.174356e+05       1.121984  \n",
       "std    8.703353e+00  1.264047e+04  9.720860e+04  1.587276e+06       0.590959  \n",
       "min    0.000000e+00  0.000000e+00  0.000000e+00  0.000000e+00       1.000000  \n",
       "25%    3.000000e+00  0.000000e+00  0.000000e+00  0.000000e+00       1.000000  \n",
       "50%    1.100000e+01  0.000000e+00  1.849010e+05  0.000000e+00       1.000000  \n",
       "75%    1.700000e+01  0.000000e+00  2.065770e+05  3.191189e+06       1.000000  \n",
       "max    9.900000e+01  6.553500e+04  4.099376e+06  4.124667e+06       5.000000  "
      ]
     },
     "execution_count": 6,
     "metadata": {},
     "output_type": "execute_result"
    }
   ],
   "source": [
    "usage.describe()"
   ]
  },
  {
   "cell_type": "code",
   "execution_count": 9,
   "metadata": {
    "collapsed": false,
    "deletable": true,
    "editable": true,
    "scrolled": true
   },
   "outputs": [
    {
     "name": "stdout",
     "output_type": "stream",
     "text": [
      "대여 번호\n",
      "대여 시간\n",
      "대여 스테이션 번호\n",
      "대여 거치대 번호\n",
      "반납 시간\n",
      "반납 스테이션 번호\n",
      "반납 거치대 번호\n",
      "추정 이동 거리(m)\n",
      "회원 구분(비회원은 99이며 나머지는 정회원)\n",
      "회원 번호\n",
      "비회원 번호\n",
      "자전거 번호\n",
      "관제반납구분값 (01:관제반납/02:관리자반납/03:관리자반출/04:타 사용자 반납/05:다른 사용자 반출)\n",
      "1.0    391188\n",
      "3.0     12693\n",
      "5.0      6158\n",
      "Name: rtn_process, dtype: int64\n"
     ]
    },
    {
     "data": {
      "image/png": "[encoded data removed]",
      "text/plain": [
       "<Figure size 432x288 with 1 Axes>"
      ]
     },
     "metadata": {},
     "output_type": "display_data"
    }
   ],
   "source": [
    "for i in usage.columns.to_list():\n",
    "    try:\n",
    "        print(col_kr[i.upper()])\n",
    "        nunique_cnt =usage[i].nunique()\n",
    "        if nunique_cnt < 10:\n",
    "            print(usage[i].value_counts())\n",
    "            plt.plot(usage[i].value_counts())\n",
    "    except:\n",
    "        continue"
   ]
  },
  {
   "cell_type": "code",
   "execution_count": 10,
   "metadata": {
    "collapsed": false
   },
   "outputs": [
    {
     "data": {
      "text/html": [
       "<div>\n",
       "<style scoped>\n",
       "    .dataframe tbody tr th:only-of-type {\n",
       "        vertical-align: middle;\n",
       "    }\n",
       "\n",
       "    .dataframe tbody tr th {\n",
       "        vertical-align: top;\n",
       "    }\n",
       "\n",
       "    .dataframe thead th {\n",
       "        text-align: right;\n",
       "    }\n",
       "</style>\n",
       "<table border=\"1\" class=\"dataframe\">\n",
       "  <thead>\n",
       "    <tr style=\"text-align: right;\">\n",
       "      <th></th>\n",
       "      <th>leas_no</th>\n",
       "      <th>leas_stat</th>\n",
       "      <th>leas_date</th>\n",
       "      <th>leas_station</th>\n",
       "      <th>leas_def_no</th>\n",
       "      <th>rtn_date</th>\n",
       "      <th>rtn_station</th>\n",
       "      <th>rtn_def_no</th>\n",
       "      <th>trnv_qty</th>\n",
       "      <th>memb_div</th>\n",
       "      <th>memb_no</th>\n",
       "      <th>temp_memb_no</th>\n",
       "      <th>bike_tag</th>\n",
       "      <th>rtn_process</th>\n",
       "    </tr>\n",
       "  </thead>\n",
       "  <tbody>\n",
       "    <tr>\n",
       "      <th>0</th>\n",
       "      <td>15945541</td>\n",
       "      <td>2</td>\n",
       "      <td>2017-01-01 00:00:41</td>\n",
       "      <td>213</td>\n",
       "      <td>18</td>\n",
       "      <td>2017-01-01 00:13:52</td>\n",
       "      <td>260</td>\n",
       "      <td>17</td>\n",
       "      <td>0.0</td>\n",
       "      <td>6</td>\n",
       "      <td>164203</td>\n",
       "      <td>0.0</td>\n",
       "      <td>1A844000000BB7</td>\n",
       "      <td>NaN</td>\n",
       "    </tr>\n",
       "    <tr>\n",
       "      <th>1</th>\n",
       "      <td>15945542</td>\n",
       "      <td>2</td>\n",
       "      <td>2017-01-01 00:01:03</td>\n",
       "      <td>231</td>\n",
       "      <td>4</td>\n",
       "      <td>2017-01-01 00:50:24</td>\n",
       "      <td>231</td>\n",
       "      <td>17</td>\n",
       "      <td>31039.0</td>\n",
       "      <td>1</td>\n",
       "      <td>187551</td>\n",
       "      <td>0.0</td>\n",
       "      <td>1A844000000494</td>\n",
       "      <td>NaN</td>\n",
       "    </tr>\n",
       "    <tr>\n",
       "      <th>2</th>\n",
       "      <td>15945543</td>\n",
       "      <td>2</td>\n",
       "      <td>2017-01-01 00:01:50</td>\n",
       "      <td>119</td>\n",
       "      <td>14</td>\n",
       "      <td>2017-01-01 01:01:50</td>\n",
       "      <td>0</td>\n",
       "      <td>0</td>\n",
       "      <td>NaN</td>\n",
       "      <td>12</td>\n",
       "      <td>168994</td>\n",
       "      <td>0.0</td>\n",
       "      <td>1A844000000533</td>\n",
       "      <td>1.0</td>\n",
       "    </tr>\n",
       "    <tr>\n",
       "      <th>3</th>\n",
       "      <td>15945544</td>\n",
       "      <td>2</td>\n",
       "      <td>2017-01-01 00:02:09</td>\n",
       "      <td>121</td>\n",
       "      <td>17</td>\n",
       "      <td>2017-01-01 00:15:58</td>\n",
       "      <td>133</td>\n",
       "      <td>14</td>\n",
       "      <td>15490.0</td>\n",
       "      <td>12</td>\n",
       "      <td>183971</td>\n",
       "      <td>0.0</td>\n",
       "      <td>1A844000000731</td>\n",
       "      <td>NaN</td>\n",
       "    </tr>\n",
       "    <tr>\n",
       "      <th>4</th>\n",
       "      <td>15945545</td>\n",
       "      <td>2</td>\n",
       "      <td>2017-01-01 00:03:32</td>\n",
       "      <td>320</td>\n",
       "      <td>29</td>\n",
       "      <td>2017-01-01 00:18:44</td>\n",
       "      <td>259</td>\n",
       "      <td>27</td>\n",
       "      <td>0.0</td>\n",
       "      <td>12</td>\n",
       "      <td>167475</td>\n",
       "      <td>0.0</td>\n",
       "      <td>1A84400000F343</td>\n",
       "      <td>NaN</td>\n",
       "    </tr>\n",
       "  </tbody>\n",
       "</table>\n",
       "</div>"
      ],
      "text/plain": [
       "    leas_no  leas_stat            leas_date  leas_station  leas_def_no  \\\n",
       "0  15945541          2  2017-01-01 00:00:41           213           18   \n",
       "1  15945542          2  2017-01-01 00:01:03           231            4   \n",
       "2  15945543          2  2017-01-01 00:01:50           119           14   \n",
       "3  15945544          2  2017-01-01 00:02:09           121           17   \n",
       "4  15945545          2  2017-01-01 00:03:32           320           29   \n",
       "\n",
       "              rtn_date  rtn_station  rtn_def_no  trnv_qty memb_div  memb_no  \\\n",
       "0  2017-01-01 00:13:52          260          17       0.0        6   164203   \n",
       "1  2017-01-01 00:50:24          231          17   31039.0        1   187551   \n",
       "2  2017-01-01 01:01:50            0           0       NaN       12   168994   \n",
       "3  2017-01-01 00:15:58          133          14   15490.0       12   183971   \n",
       "4  2017-01-01 00:18:44          259          27       0.0       12   167475   \n",
       "\n",
       "   temp_memb_no        bike_tag  rtn_process  \n",
       "0           0.0  1A844000000BB7          NaN  \n",
       "1           0.0  1A844000000494          NaN  \n",
       "2           0.0  1A844000000533          1.0  \n",
       "3           0.0  1A844000000731          NaN  \n",
       "4           0.0  1A84400000F343          NaN  "
      ]
     },
     "execution_count": 10,
     "metadata": {},
     "output_type": "execute_result"
    }
   ],
   "source": [
    "usage.head()"
   ]
  },
  {
   "cell_type": "code",
   "execution_count": 12,
   "metadata": {
    "collapsed": false
   },
   "outputs": [
    {
     "data": {
      "text/plain": [
       "156"
      ]
     },
     "execution_count": 12,
     "metadata": {},
     "output_type": "execute_result"
    }
   ],
   "source": [
    "usage.leas_station.unique()"
   ]
  },
  {
   "cell_type": "code",
   "execution_count": null,
   "metadata": {
    "collapsed": false,
    "deletable": true,
    "editable": true
   },
   "outputs": [],
   "source": [
    "usage['rtn_date'] - usage['leas_date']"
   ]
  },
  {
   "cell_type": "code",
   "execution_count": null,
   "metadata": {
    "collapsed": true,
    "deletable": true,
    "editable": true
   },
   "outputs": [],
   "source": []
  }
 ],
 "metadata": {
  "anaconda-cloud": {},
  "kernelspec": {
   "display_name": "Python [conda env:anaconda]",
   "language": "python",
   "name": "conda-env-anaconda-py"
  },
  "language_info": {
   "codemirror_mode": {
    "name": "ipython",
    "version": 3
   },
   "file_extension": ".py",
   "mimetype": "text/x-python",
   "name": "python",
   "nbconvert_exporter": "python",
   "pygments_lexer": "ipython3",
   "version": "3.5.6"
  }
 },
 "nbformat": 4,
 "nbformat_minor": 1
}
